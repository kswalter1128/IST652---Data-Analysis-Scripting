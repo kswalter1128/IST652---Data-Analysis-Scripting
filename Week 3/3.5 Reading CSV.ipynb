{
 "metadata": {
  "language_info": {
   "codemirror_mode": {
    "name": "ipython",
    "version": 3
   },
   "file_extension": ".py",
   "mimetype": "text/x-python",
   "name": "python",
   "nbconvert_exporter": "python",
   "pygments_lexer": "ipython3",
   "version": "3.9.4-final"
  },
  "orig_nbformat": 2,
  "kernelspec": {
   "name": "python394jvsc74a57bd01a6929f870ccde94a39b947bcd37a2a33eca86d97e8ef263a38f552232eef8da",
   "display_name": "Python 3.9.4 64-bit"
  },
  "metadata": {
   "interpreter": {
    "hash": "1a6929f870ccde94a39b947bcd37a2a33eca86d97e8ef263a38f552232eef8da"
   }
  }
 },
 "nbformat": 4,
 "nbformat_minor": 2,
 "cells": [
  {
   "cell_type": "code",
   "execution_count": 1,
   "metadata": {},
   "outputs": [],
   "source": [
    "import csv"
   ]
  },
  {
   "cell_type": "code",
   "execution_count": 4,
   "metadata": {},
   "outputs": [
    {
     "output_type": "stream",
     "name": "stderr",
     "text": [
      "<ipython-input-4-ca78b9644893>:2: DeprecationWarning: 'U' mode is deprecated\n  with open('states_data.tsv', 'rU') as csvfile:\n"
     ]
    }
   ],
   "source": [
    "statesList = []\n",
    "with open('states_data.tsv', 'rU') as csvfile:\n",
    "    stateReader = csv.reader(csvfile, dialect = 'excel', delimiter = '\\t')\n",
    "    for line in stateReader:\n",
    "        if line[0]== '' or line[0].startswith('Data') or line[0].startswith('*'):\n",
    "            continue\n",
    "        else:\n",
    "            state={}\n",
    "            state['name']=line[0]\n",
    "            state['abbrev']=line[1]\n",
    "            state['code']=line[2]\n",
    "            state['area']=int(line[3].replace(',',''))\n",
    "            state['pop']= int(line[4].replace(',',''))\n",
    "            statesList.append(state)\n",
    "csvfile.close()"
   ]
  },
  {
   "cell_type": "code",
   "execution_count": 5,
   "metadata": {},
   "outputs": [
    {
     "output_type": "stream",
     "name": "stdout",
     "text": [
      "Read 52 state data\n"
     ]
    }
   ],
   "source": [
    "print(\"Read\", len(statesList), \"state data\")"
   ]
  },
  {
   "cell_type": "code",
   "execution_count": 7,
   "metadata": {},
   "outputs": [
    {
     "output_type": "stream",
     "name": "stdout",
     "text": [
      "State:  Alabama  Population:  4040587\nState:  Alaska  Population:  550043\nState:  Arizona  Population:  3665228\nState:  Arkansas  Population:  2350725\nState:  California  Population:  29769021\nState:  Colorado  Population:  3294394\nState:  Connecticut  Population:  3287116\nState:  Delaware  Population:  666168\nState:  District of Columbia  Population:  606900\nState:  Florida  Population:  12937926\nState:  Georgia  Population:  6478216\nState:  Hawaii  Population:  1108229\nState:  Idaho  Population:  1006749\nState:  Illinois  Population:  11430602\nState:  Indiana  Population:  5544159\nState:  Iowa  Population:  2776755\nState:  Kansas  Population:  2477574\nState:  Kentucky  Population:  3685296\nState:  Louisiana  Population:  4219973\nState:  Maine  Population:  1227928\nState:  Maryland  Population:  4781468\nState:  Massachusetts  Population:  6016425\nState:  Michigan  Population:  9295297\nState:  Minnesota  Population:  4375099\nState:  Mississippi  Population:  2573216\nState:  Missouri  Population:  5117073\nState:  Montana  Population:  799065\nState:  Nebraska  Population:  1578385\nState:  Nevada  Population:  1201833\nState:  New Hampshire  Population:  1109252\nState:  New Jersey  Population:  7730188\nState:  New Mexico  Population:  1515069\nState:  New York  Population:  17990455\nState:  North Carolina  Population:  6628637\nState:  North Dakota  Population:  638800\nState:  Ohio  Population:  10847115\nState:  Oklahoma  Population:  3145585\nState:  Oregon  Population:  2842321\nState:  Pennsylvania  Population:  11881643\nState:  Rhode Island  Population:  1003464\nState:  South Carolina  Population:  3468703\nState:  South Dakota  Population:  696004\nState:  Tennessee  Population:  4877185\nState:  Texas  Population:  16986510\nState:  Utah  Population:  1722850\nState:  Vermont  Population:  562758\nState:  Virginia  Population:  6187358\nState:  Washington  Population:  4866692\nState:  West Virginia  Population:  1793477\nState:  Wisconsin  Population:  4891769\nState:  Wyoming  Population:  453588\nState:  United States  Population:  248691873\n"
     ]
    }
   ],
   "source": [
    "for state in statesList:\n",
    "    print('State: ', state['name'], ' Population: ', state['pop'])"
   ]
  },
  {
   "cell_type": "code",
   "execution_count": null,
   "metadata": {},
   "outputs": [],
   "source": []
  }
 ]
}