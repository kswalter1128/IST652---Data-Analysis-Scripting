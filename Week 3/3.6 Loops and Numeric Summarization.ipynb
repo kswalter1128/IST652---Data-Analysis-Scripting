{
 "metadata": {
  "language_info": {
   "codemirror_mode": {
    "name": "ipython",
    "version": 3
   },
   "file_extension": ".py",
   "mimetype": "text/x-python",
   "name": "python",
   "nbconvert_exporter": "python",
   "pygments_lexer": "ipython3",
   "version": "3.9.4-final"
  },
  "orig_nbformat": 2,
  "kernelspec": {
   "name": "python394jvsc74a57bd01a6929f870ccde94a39b947bcd37a2a33eca86d97e8ef263a38f552232eef8da",
   "display_name": "Python 3.9.4 64-bit"
  },
  "metadata": {
   "interpreter": {
    "hash": "1a6929f870ccde94a39b947bcd37a2a33eca86d97e8ef263a38f552232eef8da"
   }
  }
 },
 "nbformat": 4,
 "nbformat_minor": 2,
 "cells": [
  {
   "cell_type": "code",
   "execution_count": 9,
   "metadata": {},
   "outputs": [],
   "source": [
    "\"\"\"\n",
    "Read the file into the Python and save the records the diction\n",
    "\"\"\"\n",
    "import csv\n",
    "infile = 'tv_life.csv'\n",
    "countryList =[]\n",
    "with open(infile, 'r') as csvfile:\n",
    "    countryReader = csv.reader(csvfile, dialect = 'excel', delimiter = ',')\n",
    "    for line in countryReader:\n",
    "        if line[0] =='' or line[0].startswith('Televison') or line[0].startswith('SOURCE') or line[0].startswith('Country'):\n",
    "            continue\n",
    "        else:\n",
    "            try:\n",
    "                country = {} #creates a dictionary entry for each country\n",
    "                country['name']=line[0] #Add each line under a key representing the data\n",
    "                country['life']=line[1]\n",
    "                country['people_tv']=line[2]\n",
    "                country['people_dr']=line[3]\n",
    "                country['femalelife']=line[4]\n",
    "                country['malelife']=line[5]\n",
    "                countryList.append(country) #adds each line to the countryList\n",
    "            except IndexError:\n",
    "                print('Error: ', line)\n",
    "csvfile.close()"
   ]
  },
  {
   "cell_type": "code",
   "execution_count": 10,
   "metadata": {},
   "outputs": [
    {
     "output_type": "stream",
     "name": "stdout",
     "text": [
      "Read 40 country data\n"
     ]
    }
   ],
   "source": [
    "#inspect the data\n",
    "print(\"Read\", len(countryList), \"country data\")"
   ]
  },
  {
   "cell_type": "code",
   "execution_count": 11,
   "metadata": {},
   "outputs": [
    {
     "output_type": "stream",
     "name": "stdout",
     "text": [
      "{'name': 'Argentina', 'life': '70.5', 'people_tv': '4', 'people_dr': '370', 'femalelife': '74', 'malelife': '67'}\n{'name': 'Bangladesh', 'life': '53.5', 'people_tv': '315', 'people_dr': '6166', 'femalelife': '53', 'malelife': '54'}\n{'name': 'Brazil', 'life': '65', 'people_tv': '4', 'people_dr': '684', 'femalelife': '68', 'malelife': '62'}\n{'name': 'Canada', 'life': '76.5', 'people_tv': '1.7', 'people_dr': '449', 'femalelife': '80', 'malelife': '73'}\n{'name': 'China', 'life': '70', 'people_tv': '8', 'people_dr': '643', 'femalelife': '72', 'malelife': '68'}\n{'name': 'Colombia', 'life': '71', 'people_tv': '5.6', 'people_dr': '1551', 'femalelife': '74', 'malelife': '68'}\n{'name': 'Egypt', 'life': '60.5', 'people_tv': '15', 'people_dr': '616', 'femalelife': '61', 'malelife': '60'}\n{'name': 'Ethiopia', 'life': '51.5', 'people_tv': '503', 'people_dr': '36660', 'femalelife': '53', 'malelife': '50'}\n{'name': 'France', 'life': '78', 'people_tv': '2.6', 'people_dr': '403', 'femalelife': '82', 'malelife': '74'}\n{'name': 'Germany', 'life': '76', 'people_tv': '2.6', 'people_dr': '346', 'femalelife': '79', 'malelife': '73'}\n{'name': 'India', 'life': '57.5', 'people_tv': '44', 'people_dr': '2471', 'femalelife': '58', 'malelife': '57'}\n{'name': 'Indonesia', 'life': '61', 'people_tv': '24', 'people_dr': '7427', 'femalelife': '63', 'malelife': '59'}\n{'name': 'Iran', 'life': '64.5', 'people_tv': '23', 'people_dr': '2992', 'femalelife': '65', 'malelife': '64'}\n{'name': 'Italy', 'life': '78.5', 'people_tv': '3.8', 'people_dr': '233', 'femalelife': '82', 'malelife': '75'}\n{'name': 'Japan', 'life': '79', 'people_tv': '1.8', 'people_dr': '609', 'femalelife': '82', 'malelife': '76'}\n{'name': 'Kenya', 'life': '61', 'people_tv': '96', 'people_dr': '7615', 'femalelife': '63', 'malelife': '59'}\n{'name': 'Korea, North', 'life': '70', 'people_tv': '90', 'people_dr': '370', 'femalelife': '73', 'malelife': '67'}\n{'name': 'Korea, South', 'life': '70', 'people_tv': '4.9', 'people_dr': '1066', 'femalelife': '73', 'malelife': '67'}\n{'name': 'Mexico', 'life': '72', 'people_tv': '6.6', 'people_dr': '600', 'femalelife': '76', 'malelife': '68'}\n{'name': 'Morocco', 'life': '64.5', 'people_tv': '21', 'people_dr': '4873', 'femalelife': '66', 'malelife': '63'}\n{'name': 'Myanmar (Burma)', 'life': '54.5', 'people_tv': '592', 'people_dr': '3485', 'femalelife': '56', 'malelife': '53'}\n{'name': 'Pakistan', 'life': '56.5', 'people_tv': '73', 'people_dr': '2364', 'femalelife': '57', 'malelife': '56'}\n{'name': 'Peru', 'life': '64.5', 'people_tv': '14', 'people_dr': '1016', 'femalelife': '67', 'malelife': '62'}\n{'name': 'Philippines', 'life': '64.5', 'people_tv': '8.8', 'people_dr': '1062', 'femalelife': '67', 'malelife': '62'}\n{'name': 'Poland', 'life': '73', 'people_tv': '3.9', 'people_dr': '480', 'femalelife': '77', 'malelife': '69'}\n{'name': 'Romania', 'life': '72', 'people_tv': '6', 'people_dr': '559', 'femalelife': '75', 'malelife': '69'}\n{'name': 'Russia', 'life': '69', 'people_tv': '3.2', 'people_dr': '259', 'femalelife': '74', 'malelife': '64'}\n{'name': 'South Africa', 'life': '64', 'people_tv': '11', 'people_dr': '1340', 'femalelife': '67', 'malelife': '61'}\n{'name': 'Spain', 'life': '78.5', 'people_tv': '2.6', 'people_dr': '275', 'femalelife': '82', 'malelife': '75'}\n{'name': 'Sudan', 'life': '53', 'people_tv': '23', 'people_dr': '12550', 'femalelife': '54', 'malelife': '52'}\n{'name': 'Taiwan', 'life': '75', 'people_tv': '3.2', 'people_dr': '965', 'femalelife': '78', 'malelife': '72'}\n{'name': 'Tanzania', 'life': '52.5', 'people_tv': '*', 'people_dr': '25229', 'femalelife': '55', 'malelife': '50'}\n{'name': 'Thailand', 'life': '68.5', 'people_tv': '11', 'people_dr': '4883', 'femalelife': '71', 'malelife': '66'}\n{'name': 'Turkey', 'life': '70', 'people_tv': '5', 'people_dr': '1189', 'femalelife': '72', 'malelife': '68'}\n{'name': 'Ukraine', 'life': '70.5', 'people_tv': '3', 'people_dr': '226', 'femalelife': '75', 'malelife': '66'}\n{'name': 'United Kingdom', 'life': '76', 'people_tv': '3', 'people_dr': '611', 'femalelife': '79', 'malelife': '73'}\n{'name': 'United States', 'life': '75.5', 'people_tv': '1.3', 'people_dr': '404', 'femalelife': '79', 'malelife': '72'}\n{'name': 'Venezuela', 'life': '74.5', 'people_tv': '5.6', 'people_dr': '576', 'femalelife': '78', 'malelife': '71'}\n{'name': 'Vietnam', 'life': '65', 'people_tv': '29', 'people_dr': '3096', 'femalelife': '67', 'malelife': '63'}\n{'name': 'Zaire', 'life': '54', 'people_tv': '*', 'people_dr': '23193', 'femalelife': '56', 'malelife': '52'}\n"
     ]
    }
   ],
   "source": [
    "for i in countryList:\n",
    "    print(i)"
   ]
  },
  {
   "cell_type": "code",
   "execution_count": null,
   "metadata": {},
   "outputs": [],
   "source": []
  }
 ]
}