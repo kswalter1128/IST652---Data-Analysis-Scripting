{
 "metadata": {
  "language_info": {
   "codemirror_mode": {
    "name": "ipython",
    "version": 3
   },
   "file_extension": ".py",
   "mimetype": "text/x-python",
   "name": "python",
   "nbconvert_exporter": "python",
   "pygments_lexer": "ipython3",
   "version": "3.9.4"
  },
  "orig_nbformat": 2,
  "kernelspec": {
   "name": "python394jvsc74a57bd01a6929f870ccde94a39b947bcd37a2a33eca86d97e8ef263a38f552232eef8da",
   "display_name": "Python 3.9.4 64-bit"
  },
  "metadata": {
   "interpreter": {
    "hash": "1a6929f870ccde94a39b947bcd37a2a33eca86d97e8ef263a38f552232eef8da"
   }
  }
 },
 "nbformat": 4,
 "nbformat_minor": 2,
 "cells": [
  {
   "cell_type": "code",
   "execution_count": 1,
   "metadata": {},
   "outputs": [],
   "source": [
    "import pandas as pd"
   ]
  },
  {
   "cell_type": "code",
   "execution_count": 2,
   "metadata": {},
   "outputs": [],
   "source": [
    "import numpy as np"
   ]
  },
  {
   "cell_type": "code",
   "execution_count": 4,
   "metadata": {},
   "outputs": [],
   "source": [
    "state_data={\n",
    "    'State':['Alabama','Alaska','Arizon','Arkansas'],\n",
    "    'PostCode':['AL','AK','AZ','AR'],\n",
    "    'Area':['52,423','656,424','*','53182'],\n",
    "    'Pop':['4,040,587','550,043','3,665,228','2,350,750']\n",
    "}"
   ]
  },
  {
   "cell_type": "code",
   "execution_count": 5,
   "metadata": {},
   "outputs": [],
   "source": [
    "stdf = pd.DataFrame(state_data, columns=['State','PostCode','Area','Pop'])"
   ]
  },
  {
   "cell_type": "code",
   "execution_count": 6,
   "metadata": {},
   "outputs": [
    {
     "output_type": "execute_result",
     "data": {
      "text/plain": [
       "      State PostCode     Area        Pop\n",
       "0   Alabama       AL   52,423  4,040,587\n",
       "1    Alaska       AK  656,424    550,043\n",
       "2    Arizon       AZ        *  3,665,228\n",
       "3  Arkansas       AR    53182  2,350,750"
      ],
      "text/html": "<div>\n<style scoped>\n    .dataframe tbody tr th:only-of-type {\n        vertical-align: middle;\n    }\n\n    .dataframe tbody tr th {\n        vertical-align: top;\n    }\n\n    .dataframe thead th {\n        text-align: right;\n    }\n</style>\n<table border=\"1\" class=\"dataframe\">\n  <thead>\n    <tr style=\"text-align: right;\">\n      <th></th>\n      <th>State</th>\n      <th>PostCode</th>\n      <th>Area</th>\n      <th>Pop</th>\n    </tr>\n  </thead>\n  <tbody>\n    <tr>\n      <th>0</th>\n      <td>Alabama</td>\n      <td>AL</td>\n      <td>52,423</td>\n      <td>4,040,587</td>\n    </tr>\n    <tr>\n      <th>1</th>\n      <td>Alaska</td>\n      <td>AK</td>\n      <td>656,424</td>\n      <td>550,043</td>\n    </tr>\n    <tr>\n      <th>2</th>\n      <td>Arizon</td>\n      <td>AZ</td>\n      <td>*</td>\n      <td>3,665,228</td>\n    </tr>\n    <tr>\n      <th>3</th>\n      <td>Arkansas</td>\n      <td>AR</td>\n      <td>53182</td>\n      <td>2,350,750</td>\n    </tr>\n  </tbody>\n</table>\n</div>"
     },
     "metadata": {},
     "execution_count": 6
    }
   ],
   "source": [
    "stdf"
   ]
  },
  {
   "cell_type": "code",
   "execution_count": 7,
   "metadata": {},
   "outputs": [
    {
     "output_type": "execute_result",
     "data": {
      "text/plain": [
       "0     52,423\n",
       "1    656,424\n",
       "2          *\n",
       "3      53182\n",
       "Name: Area, dtype: object"
      ]
     },
     "metadata": {},
     "execution_count": 7
    }
   ],
   "source": [
    "stdf['Area']"
   ]
  },
  {
   "cell_type": "code",
   "execution_count": 9,
   "metadata": {},
   "outputs": [],
   "source": [
    "stdf = stdf.set_index('State')"
   ]
  },
  {
   "cell_type": "code",
   "execution_count": 10,
   "metadata": {},
   "outputs": [
    {
     "output_type": "execute_result",
     "data": {
      "text/plain": [
       "         PostCode     Area        Pop\n",
       "State                                \n",
       "Alabama        AL   52,423  4,040,587\n",
       "Alaska         AK  656,424    550,043\n",
       "Arizon         AZ        *  3,665,228\n",
       "Arkansas       AR    53182  2,350,750"
      ],
      "text/html": "<div>\n<style scoped>\n    .dataframe tbody tr th:only-of-type {\n        vertical-align: middle;\n    }\n\n    .dataframe tbody tr th {\n        vertical-align: top;\n    }\n\n    .dataframe thead th {\n        text-align: right;\n    }\n</style>\n<table border=\"1\" class=\"dataframe\">\n  <thead>\n    <tr style=\"text-align: right;\">\n      <th></th>\n      <th>PostCode</th>\n      <th>Area</th>\n      <th>Pop</th>\n    </tr>\n    <tr>\n      <th>State</th>\n      <th></th>\n      <th></th>\n      <th></th>\n    </tr>\n  </thead>\n  <tbody>\n    <tr>\n      <th>Alabama</th>\n      <td>AL</td>\n      <td>52,423</td>\n      <td>4,040,587</td>\n    </tr>\n    <tr>\n      <th>Alaska</th>\n      <td>AK</td>\n      <td>656,424</td>\n      <td>550,043</td>\n    </tr>\n    <tr>\n      <th>Arizon</th>\n      <td>AZ</td>\n      <td>*</td>\n      <td>3,665,228</td>\n    </tr>\n    <tr>\n      <th>Arkansas</th>\n      <td>AR</td>\n      <td>53182</td>\n      <td>2,350,750</td>\n    </tr>\n  </tbody>\n</table>\n</div>"
     },
     "metadata": {},
     "execution_count": 10
    }
   ],
   "source": [
    "stdf"
   ]
  },
  {
   "cell_type": "code",
   "execution_count": 11,
   "metadata": {},
   "outputs": [],
   "source": [
    "stdf = stdf.replace('*', '0')"
   ]
  },
  {
   "cell_type": "code",
   "execution_count": 12,
   "metadata": {},
   "outputs": [
    {
     "output_type": "execute_result",
     "data": {
      "text/plain": [
       "         PostCode     Area        Pop\n",
       "State                                \n",
       "Alabama        AL   52,423  4,040,587\n",
       "Alaska         AK  656,424    550,043\n",
       "Arizon         AZ        0  3,665,228\n",
       "Arkansas       AR    53182  2,350,750"
      ],
      "text/html": "<div>\n<style scoped>\n    .dataframe tbody tr th:only-of-type {\n        vertical-align: middle;\n    }\n\n    .dataframe tbody tr th {\n        vertical-align: top;\n    }\n\n    .dataframe thead th {\n        text-align: right;\n    }\n</style>\n<table border=\"1\" class=\"dataframe\">\n  <thead>\n    <tr style=\"text-align: right;\">\n      <th></th>\n      <th>PostCode</th>\n      <th>Area</th>\n      <th>Pop</th>\n    </tr>\n    <tr>\n      <th>State</th>\n      <th></th>\n      <th></th>\n      <th></th>\n    </tr>\n  </thead>\n  <tbody>\n    <tr>\n      <th>Alabama</th>\n      <td>AL</td>\n      <td>52,423</td>\n      <td>4,040,587</td>\n    </tr>\n    <tr>\n      <th>Alaska</th>\n      <td>AK</td>\n      <td>656,424</td>\n      <td>550,043</td>\n    </tr>\n    <tr>\n      <th>Arizon</th>\n      <td>AZ</td>\n      <td>0</td>\n      <td>3,665,228</td>\n    </tr>\n    <tr>\n      <th>Arkansas</th>\n      <td>AR</td>\n      <td>53182</td>\n      <td>2,350,750</td>\n    </tr>\n  </tbody>\n</table>\n</div>"
     },
     "metadata": {},
     "execution_count": 12
    }
   ],
   "source": [
    "stdf"
   ]
  },
  {
   "cell_type": "code",
   "execution_count": 13,
   "metadata": {},
   "outputs": [],
   "source": [
    "def item_replace(xstr):\n",
    "    return xstr.replace(',','')"
   ]
  },
  {
   "cell_type": "code",
   "execution_count": 15,
   "metadata": {},
   "outputs": [],
   "source": [
    "stdf['Area'] = stdf['Area'].map(item_replace)"
   ]
  },
  {
   "cell_type": "code",
   "execution_count": 16,
   "metadata": {},
   "outputs": [
    {
     "output_type": "execute_result",
     "data": {
      "text/plain": [
       "         PostCode    Area        Pop\n",
       "State                               \n",
       "Alabama        AL   52423  4,040,587\n",
       "Alaska         AK  656424    550,043\n",
       "Arizon         AZ       0  3,665,228\n",
       "Arkansas       AR   53182  2,350,750"
      ],
      "text/html": "<div>\n<style scoped>\n    .dataframe tbody tr th:only-of-type {\n        vertical-align: middle;\n    }\n\n    .dataframe tbody tr th {\n        vertical-align: top;\n    }\n\n    .dataframe thead th {\n        text-align: right;\n    }\n</style>\n<table border=\"1\" class=\"dataframe\">\n  <thead>\n    <tr style=\"text-align: right;\">\n      <th></th>\n      <th>PostCode</th>\n      <th>Area</th>\n      <th>Pop</th>\n    </tr>\n    <tr>\n      <th>State</th>\n      <th></th>\n      <th></th>\n      <th></th>\n    </tr>\n  </thead>\n  <tbody>\n    <tr>\n      <th>Alabama</th>\n      <td>AL</td>\n      <td>52423</td>\n      <td>4,040,587</td>\n    </tr>\n    <tr>\n      <th>Alaska</th>\n      <td>AK</td>\n      <td>656424</td>\n      <td>550,043</td>\n    </tr>\n    <tr>\n      <th>Arizon</th>\n      <td>AZ</td>\n      <td>0</td>\n      <td>3,665,228</td>\n    </tr>\n    <tr>\n      <th>Arkansas</th>\n      <td>AR</td>\n      <td>53182</td>\n      <td>2,350,750</td>\n    </tr>\n  </tbody>\n</table>\n</div>"
     },
     "metadata": {},
     "execution_count": 16
    }
   ],
   "source": [
    "stdf"
   ]
  },
  {
   "cell_type": "code",
   "execution_count": 18,
   "metadata": {},
   "outputs": [],
   "source": [
    "stdf['Pop'] = stdf['Pop'].map(item_replace)"
   ]
  },
  {
   "cell_type": "code",
   "execution_count": 19,
   "metadata": {},
   "outputs": [
    {
     "output_type": "execute_result",
     "data": {
      "text/plain": [
       "         PostCode    Area      Pop\n",
       "State                             \n",
       "Alabama        AL   52423  4040587\n",
       "Alaska         AK  656424   550043\n",
       "Arizon         AZ       0  3665228\n",
       "Arkansas       AR   53182  2350750"
      ],
      "text/html": "<div>\n<style scoped>\n    .dataframe tbody tr th:only-of-type {\n        vertical-align: middle;\n    }\n\n    .dataframe tbody tr th {\n        vertical-align: top;\n    }\n\n    .dataframe thead th {\n        text-align: right;\n    }\n</style>\n<table border=\"1\" class=\"dataframe\">\n  <thead>\n    <tr style=\"text-align: right;\">\n      <th></th>\n      <th>PostCode</th>\n      <th>Area</th>\n      <th>Pop</th>\n    </tr>\n    <tr>\n      <th>State</th>\n      <th></th>\n      <th></th>\n      <th></th>\n    </tr>\n  </thead>\n  <tbody>\n    <tr>\n      <th>Alabama</th>\n      <td>AL</td>\n      <td>52423</td>\n      <td>4040587</td>\n    </tr>\n    <tr>\n      <th>Alaska</th>\n      <td>AK</td>\n      <td>656424</td>\n      <td>550043</td>\n    </tr>\n    <tr>\n      <th>Arizon</th>\n      <td>AZ</td>\n      <td>0</td>\n      <td>3665228</td>\n    </tr>\n    <tr>\n      <th>Arkansas</th>\n      <td>AR</td>\n      <td>53182</td>\n      <td>2350750</td>\n    </tr>\n  </tbody>\n</table>\n</div>"
     },
     "metadata": {},
     "execution_count": 19
    }
   ],
   "source": [
    "stdf"
   ]
  },
  {
   "cell_type": "code",
   "execution_count": null,
   "metadata": {},
   "outputs": [],
   "source": []
  }
 ]
}