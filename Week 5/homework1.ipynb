{
 "metadata": {
  "language_info": {
   "codemirror_mode": {
    "name": "ipython",
    "version": 3
   },
   "file_extension": ".py",
   "mimetype": "text/x-python",
   "name": "python",
   "nbconvert_exporter": "python",
   "pygments_lexer": "ipython3",
   "version": "3.9.4"
  },
  "orig_nbformat": 2,
  "kernelspec": {
   "name": "python394jvsc74a57bd01a6929f870ccde94a39b947bcd37a2a33eca86d97e8ef263a38f552232eef8da",
   "display_name": "Python 3.9.4 64-bit"
  },
  "metadata": {
   "interpreter": {
    "hash": "1a6929f870ccde94a39b947bcd37a2a33eca86d97e8ef263a38f552232eef8da"
   }
  }
 },
 "nbformat": 4,
 "nbformat_minor": 2,
 "cells": [
  {
   "cell_type": "code",
   "execution_count": 57,
   "metadata": {},
   "outputs": [],
   "source": [
    "import pandas as pd\n",
    "import numpy as np\n",
    "#imports the data into a Data Frame\n",
    "donorsDf = pd.read_csv('donors_data.csv')"
   ]
  },
  {
   "cell_type": "code",
   "execution_count": 58,
   "metadata": {},
   "outputs": [
    {
     "output_type": "execute_result",
     "data": {
      "text/plain": [
       "Index(['Row Id', 'Row Id.', 'zipconvert_2', 'zipconvert_3', 'zipconvert_4',\n",
       "       'zipconvert_5', 'homeowner dummy', 'NUMCHLD', 'INCOME', 'gender dummy',\n",
       "       'WEALTH', 'HV', 'Icmed', 'Icavg', 'IC15', 'NUMPROM', 'RAMNTALL',\n",
       "       'MAXRAMNT', 'LASTGIFT', 'totalmonths', 'TIMELAG', 'AVGGIFT', 'TARGET_B',\n",
       "       'TARGET_D'],\n",
       "      dtype='object')"
      ]
     },
     "metadata": {},
     "execution_count": 58
    }
   ],
   "source": [
    "donorsDf.columns #show the columns in the Data"
   ]
  },
  {
   "cell_type": "code",
   "execution_count": 59,
   "metadata": {},
   "outputs": [],
   "source": [
    "donorsDf=donorsDf.drop(columns=['zipconvert_2', 'zipconvert_3', 'zipconvert_4','zipconvert_5', 'Icmed','Icavg','IC15','TARGET_B','TARGET_D']) #Drops Columns that likely will not be used in this analysis"
   ]
  },
  {
   "cell_type": "code",
   "execution_count": 60,
   "metadata": {},
   "outputs": [],
   "source": [
    "#Finds who has only donated one time by checking Lifetime giving vs their most recent gift value\n",
    "donorsDf['oneTimeDonor']=np.where(donorsDf['RAMNTALL']==donorsDf['LASTGIFT'], True, False) "
   ]
  },
  {
   "cell_type": "code",
   "execution_count": 61,
   "metadata": {},
   "outputs": [
    {
     "output_type": "execute_result",
     "data": {
      "text/plain": [
       "count    138.0\n",
       "mean       5.0\n",
       "std        0.0\n",
       "min        5.0\n",
       "25%        5.0\n",
       "50%        5.0\n",
       "75%        5.0\n",
       "max        5.0\n",
       "Name: TIMELAG, dtype: float64"
      ]
     },
     "metadata": {},
     "execution_count": 61
    }
   ],
   "source": [
    "singleDonors=donorsDf[donorsDf['oneTimeDonor']==True]\n",
    "singleDonors['TIMELAG'].describe() #This looks strange"
   ]
  },
  {
   "cell_type": "code",
   "execution_count": 62,
   "metadata": {},
   "outputs": [
    {
     "output_type": "execute_result",
     "data": {
      "text/plain": [
       "            Row Id       Row Id.  homeowner dummy      NUMCHLD       INCOME  \\\n",
       "count  3120.000000   3120.000000      3120.000000  3120.000000  3120.000000   \n",
       "mean   1560.500000  11615.770833         0.770192     1.069231     3.893910   \n",
       "std     900.810746   6698.678131         0.420777     0.347688     1.636186   \n",
       "min       1.000000     17.000000         0.000000     1.000000     1.000000   \n",
       "25%     780.750000   5820.750000         1.000000     1.000000     3.000000   \n",
       "50%    1560.500000  11735.500000         1.000000     1.000000     4.000000   \n",
       "75%    2340.250000  17435.750000         1.000000     1.000000     5.000000   \n",
       "max    3120.000000  23293.000000         1.000000     5.000000     7.000000   \n",
       "\n",
       "       gender dummy       WEALTH           HV      NUMPROM     RAMNTALL  \\\n",
       "count   3120.000000  3120.000000  3120.000000  3120.000000  3120.000000   \n",
       "mean       0.609295     6.402244  1141.361859    49.089423   110.399875   \n",
       "std        0.487987     2.539978   946.642162    22.717130   147.299933   \n",
       "min        0.000000     0.000000     0.000000    11.000000    15.000000   \n",
       "25%        0.000000     5.000000   556.000000    29.000000    45.000000   \n",
       "50%        1.000000     8.000000   822.000000    48.000000    81.000000   \n",
       "75%        1.000000     8.000000  1338.750000    65.000000   134.625000   \n",
       "max        1.000000     9.000000  5945.000000   157.000000  5674.900000   \n",
       "\n",
       "          MAXRAMNT     LASTGIFT  totalmonths      TIMELAG      AVGGIFT  \n",
       "count  3120.000000  3120.000000  3120.000000  3120.000000  3120.000000  \n",
       "mean     16.651397    13.522917    31.136859     6.861859    10.690713  \n",
       "std      22.223521    10.581439     4.132952     5.561209     7.443980  \n",
       "min       5.000000     0.000000    17.000000     0.000000     2.138889  \n",
       "25%      10.000000     7.000000    29.000000     3.000000     6.356092  \n",
       "50%      15.000000    10.000000    31.000000     5.000000     9.000000  \n",
       "75%      20.000000    16.000000    34.000000     9.000000    12.811652  \n",
       "max    1000.000000   219.000000    37.000000    77.000000   122.166667  "
      ],
      "text/html": "<div>\n<style scoped>\n    .dataframe tbody tr th:only-of-type {\n        vertical-align: middle;\n    }\n\n    .dataframe tbody tr th {\n        vertical-align: top;\n    }\n\n    .dataframe thead th {\n        text-align: right;\n    }\n</style>\n<table border=\"1\" class=\"dataframe\">\n  <thead>\n    <tr style=\"text-align: right;\">\n      <th></th>\n      <th>Row Id</th>\n      <th>Row Id.</th>\n      <th>homeowner dummy</th>\n      <th>NUMCHLD</th>\n      <th>INCOME</th>\n      <th>gender dummy</th>\n      <th>WEALTH</th>\n      <th>HV</th>\n      <th>NUMPROM</th>\n      <th>RAMNTALL</th>\n      <th>MAXRAMNT</th>\n      <th>LASTGIFT</th>\n      <th>totalmonths</th>\n      <th>TIMELAG</th>\n      <th>AVGGIFT</th>\n    </tr>\n  </thead>\n  <tbody>\n    <tr>\n      <th>count</th>\n      <td>3120.000000</td>\n      <td>3120.000000</td>\n      <td>3120.000000</td>\n      <td>3120.000000</td>\n      <td>3120.000000</td>\n      <td>3120.000000</td>\n      <td>3120.000000</td>\n      <td>3120.000000</td>\n      <td>3120.000000</td>\n      <td>3120.000000</td>\n      <td>3120.000000</td>\n      <td>3120.000000</td>\n      <td>3120.000000</td>\n      <td>3120.000000</td>\n      <td>3120.000000</td>\n    </tr>\n    <tr>\n      <th>mean</th>\n      <td>1560.500000</td>\n      <td>11615.770833</td>\n      <td>0.770192</td>\n      <td>1.069231</td>\n      <td>3.893910</td>\n      <td>0.609295</td>\n      <td>6.402244</td>\n      <td>1141.361859</td>\n      <td>49.089423</td>\n      <td>110.399875</td>\n      <td>16.651397</td>\n      <td>13.522917</td>\n      <td>31.136859</td>\n      <td>6.861859</td>\n      <td>10.690713</td>\n    </tr>\n    <tr>\n      <th>std</th>\n      <td>900.810746</td>\n      <td>6698.678131</td>\n      <td>0.420777</td>\n      <td>0.347688</td>\n      <td>1.636186</td>\n      <td>0.487987</td>\n      <td>2.539978</td>\n      <td>946.642162</td>\n      <td>22.717130</td>\n      <td>147.299933</td>\n      <td>22.223521</td>\n      <td>10.581439</td>\n      <td>4.132952</td>\n      <td>5.561209</td>\n      <td>7.443980</td>\n    </tr>\n    <tr>\n      <th>min</th>\n      <td>1.000000</td>\n      <td>17.000000</td>\n      <td>0.000000</td>\n      <td>1.000000</td>\n      <td>1.000000</td>\n      <td>0.000000</td>\n      <td>0.000000</td>\n      <td>0.000000</td>\n      <td>11.000000</td>\n      <td>15.000000</td>\n      <td>5.000000</td>\n      <td>0.000000</td>\n      <td>17.000000</td>\n      <td>0.000000</td>\n      <td>2.138889</td>\n    </tr>\n    <tr>\n      <th>25%</th>\n      <td>780.750000</td>\n      <td>5820.750000</td>\n      <td>1.000000</td>\n      <td>1.000000</td>\n      <td>3.000000</td>\n      <td>0.000000</td>\n      <td>5.000000</td>\n      <td>556.000000</td>\n      <td>29.000000</td>\n      <td>45.000000</td>\n      <td>10.000000</td>\n      <td>7.000000</td>\n      <td>29.000000</td>\n      <td>3.000000</td>\n      <td>6.356092</td>\n    </tr>\n    <tr>\n      <th>50%</th>\n      <td>1560.500000</td>\n      <td>11735.500000</td>\n      <td>1.000000</td>\n      <td>1.000000</td>\n      <td>4.000000</td>\n      <td>1.000000</td>\n      <td>8.000000</td>\n      <td>822.000000</td>\n      <td>48.000000</td>\n      <td>81.000000</td>\n      <td>15.000000</td>\n      <td>10.000000</td>\n      <td>31.000000</td>\n      <td>5.000000</td>\n      <td>9.000000</td>\n    </tr>\n    <tr>\n      <th>75%</th>\n      <td>2340.250000</td>\n      <td>17435.750000</td>\n      <td>1.000000</td>\n      <td>1.000000</td>\n      <td>5.000000</td>\n      <td>1.000000</td>\n      <td>8.000000</td>\n      <td>1338.750000</td>\n      <td>65.000000</td>\n      <td>134.625000</td>\n      <td>20.000000</td>\n      <td>16.000000</td>\n      <td>34.000000</td>\n      <td>9.000000</td>\n      <td>12.811652</td>\n    </tr>\n    <tr>\n      <th>max</th>\n      <td>3120.000000</td>\n      <td>23293.000000</td>\n      <td>1.000000</td>\n      <td>5.000000</td>\n      <td>7.000000</td>\n      <td>1.000000</td>\n      <td>9.000000</td>\n      <td>5945.000000</td>\n      <td>157.000000</td>\n      <td>5674.900000</td>\n      <td>1000.000000</td>\n      <td>219.000000</td>\n      <td>37.000000</td>\n      <td>77.000000</td>\n      <td>122.166667</td>\n    </tr>\n  </tbody>\n</table>\n</div>"
     },
     "metadata": {},
     "execution_count": 62
    }
   ],
   "source": [
    "donorsDf.describe()"
   ]
  },
  {
   "cell_type": "code",
   "execution_count": 63,
   "metadata": {},
   "outputs": [
    {
     "output_type": "execute_result",
     "data": {
      "text/plain": [
       "gender dummy\n",
       "0    11.33\n",
       "1    10.28\n",
       "Name: AVGGIFT, dtype: float64"
      ]
     },
     "metadata": {},
     "execution_count": 63
    }
   ],
   "source": [
    "gender_grp=donorsDf.groupby('gender dummy')\n",
    "gender_grp['AVGGIFT'].mean().round(2)"
   ]
  },
  {
   "cell_type": "code",
   "execution_count": 64,
   "metadata": {},
   "outputs": [
    {
     "output_type": "execute_result",
     "data": {
      "text/plain": [
       "    WEALTH  homeowner dummy  gender dummy   mean  count\n",
       "0        0                0             0  19.77      8\n",
       "4        1                0             0  13.58     13\n",
       "30       7                1             0  12.92     62\n",
       "28       7                0             0  12.75     14\n",
       "38       9                1             0  12.66     65"
      ],
      "text/html": "<div>\n<style scoped>\n    .dataframe tbody tr th:only-of-type {\n        vertical-align: middle;\n    }\n\n    .dataframe tbody tr th {\n        vertical-align: top;\n    }\n\n    .dataframe thead th {\n        text-align: right;\n    }\n</style>\n<table border=\"1\" class=\"dataframe\">\n  <thead>\n    <tr style=\"text-align: right;\">\n      <th></th>\n      <th>WEALTH</th>\n      <th>homeowner dummy</th>\n      <th>gender dummy</th>\n      <th>mean</th>\n      <th>count</th>\n    </tr>\n  </thead>\n  <tbody>\n    <tr>\n      <th>0</th>\n      <td>0</td>\n      <td>0</td>\n      <td>0</td>\n      <td>19.77</td>\n      <td>8</td>\n    </tr>\n    <tr>\n      <th>4</th>\n      <td>1</td>\n      <td>0</td>\n      <td>0</td>\n      <td>13.58</td>\n      <td>13</td>\n    </tr>\n    <tr>\n      <th>30</th>\n      <td>7</td>\n      <td>1</td>\n      <td>0</td>\n      <td>12.92</td>\n      <td>62</td>\n    </tr>\n    <tr>\n      <th>28</th>\n      <td>7</td>\n      <td>0</td>\n      <td>0</td>\n      <td>12.75</td>\n      <td>14</td>\n    </tr>\n    <tr>\n      <th>38</th>\n      <td>9</td>\n      <td>1</td>\n      <td>0</td>\n      <td>12.66</td>\n      <td>65</td>\n    </tr>\n  </tbody>\n</table>\n</div>"
     },
     "metadata": {},
     "execution_count": 64
    }
   ],
   "source": [
    "wealth_grp = donorsDf.groupby(['WEALTH', 'homeowner dummy','gender dummy'])['AVGGIFT'].agg(['mean', 'count']).round(2).reset_index()\n",
    "wealth_grp.sort_values('mean', ascending=False).head(5)\n"
   ]
  },
  {
   "cell_type": "code",
   "execution_count": 65,
   "metadata": {},
   "outputs": [
    {
     "output_type": "execute_result",
     "data": {
      "text/plain": [
       "    WEALTH  homeowner dummy  gender dummy  mean  count\n",
       "7        1                1             1  8.81     57\n",
       "10       2                1             0  8.81     32\n",
       "23       5                1             1  8.38     86\n",
       "5        1                0             1  8.08     28\n",
       "3        0                1             1  7.91     59"
      ],
      "text/html": "<div>\n<style scoped>\n    .dataframe tbody tr th:only-of-type {\n        vertical-align: middle;\n    }\n\n    .dataframe tbody tr th {\n        vertical-align: top;\n    }\n\n    .dataframe thead th {\n        text-align: right;\n    }\n</style>\n<table border=\"1\" class=\"dataframe\">\n  <thead>\n    <tr style=\"text-align: right;\">\n      <th></th>\n      <th>WEALTH</th>\n      <th>homeowner dummy</th>\n      <th>gender dummy</th>\n      <th>mean</th>\n      <th>count</th>\n    </tr>\n  </thead>\n  <tbody>\n    <tr>\n      <th>7</th>\n      <td>1</td>\n      <td>1</td>\n      <td>1</td>\n      <td>8.81</td>\n      <td>57</td>\n    </tr>\n    <tr>\n      <th>10</th>\n      <td>2</td>\n      <td>1</td>\n      <td>0</td>\n      <td>8.81</td>\n      <td>32</td>\n    </tr>\n    <tr>\n      <th>23</th>\n      <td>5</td>\n      <td>1</td>\n      <td>1</td>\n      <td>8.38</td>\n      <td>86</td>\n    </tr>\n    <tr>\n      <th>5</th>\n      <td>1</td>\n      <td>0</td>\n      <td>1</td>\n      <td>8.08</td>\n      <td>28</td>\n    </tr>\n    <tr>\n      <th>3</th>\n      <td>0</td>\n      <td>1</td>\n      <td>1</td>\n      <td>7.91</td>\n      <td>59</td>\n    </tr>\n  </tbody>\n</table>\n</div>"
     },
     "metadata": {},
     "execution_count": 65
    }
   ],
   "source": [
    "wealth_grp.sort_values('mean', ascending=False).tail(5)"
   ]
  },
  {
   "cell_type": "code",
   "execution_count": 66,
   "metadata": {},
   "outputs": [
    {
     "output_type": "execute_result",
     "data": {
      "text/plain": [
       "          mean  count\n",
       "NUMCHLD              \n",
       "1        10.73   2972\n",
       "2         9.94     99\n",
       "3         9.64     31\n",
       "4        10.81     17\n",
       "5         6.60      1"
      ],
      "text/html": "<div>\n<style scoped>\n    .dataframe tbody tr th:only-of-type {\n        vertical-align: middle;\n    }\n\n    .dataframe tbody tr th {\n        vertical-align: top;\n    }\n\n    .dataframe thead th {\n        text-align: right;\n    }\n</style>\n<table border=\"1\" class=\"dataframe\">\n  <thead>\n    <tr style=\"text-align: right;\">\n      <th></th>\n      <th>mean</th>\n      <th>count</th>\n    </tr>\n    <tr>\n      <th>NUMCHLD</th>\n      <th></th>\n      <th></th>\n    </tr>\n  </thead>\n  <tbody>\n    <tr>\n      <th>1</th>\n      <td>10.73</td>\n      <td>2972</td>\n    </tr>\n    <tr>\n      <th>2</th>\n      <td>9.94</td>\n      <td>99</td>\n    </tr>\n    <tr>\n      <th>3</th>\n      <td>9.64</td>\n      <td>31</td>\n    </tr>\n    <tr>\n      <th>4</th>\n      <td>10.81</td>\n      <td>17</td>\n    </tr>\n    <tr>\n      <th>5</th>\n      <td>6.60</td>\n      <td>1</td>\n    </tr>\n  </tbody>\n</table>\n</div>"
     },
     "metadata": {},
     "execution_count": 66
    }
   ],
   "source": [
    "donorsDf.groupby('NUMCHLD')['AVGGIFT'].agg(['mean','count']).round(2)"
   ]
  },
  {
   "cell_type": "code",
   "execution_count": null,
   "metadata": {},
   "outputs": [],
   "source": []
  }
 ]
}