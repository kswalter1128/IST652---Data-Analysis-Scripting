{
 "metadata": {
  "language_info": {
   "codemirror_mode": {
    "name": "ipython",
    "version": 3
   },
   "file_extension": ".py",
   "mimetype": "text/x-python",
   "name": "python",
   "nbconvert_exporter": "python",
   "pygments_lexer": "ipython3",
   "version": "3.9.4"
  },
  "orig_nbformat": 2,
  "kernelspec": {
   "name": "python394jvsc74a57bd01a6929f870ccde94a39b947bcd37a2a33eca86d97e8ef263a38f552232eef8da",
   "display_name": "Python 3.9.4 64-bit"
  },
  "metadata": {
   "interpreter": {
    "hash": "1a6929f870ccde94a39b947bcd37a2a33eca86d97e8ef263a38f552232eef8da"
   }
  }
 },
 "nbformat": 4,
 "nbformat_minor": 2,
 "cells": [
  {
   "cell_type": "code",
   "execution_count": 11,
   "metadata": {},
   "outputs": [],
   "source": [
    "import csv\n",
    "infile = 'albb.salaries.2003.tsv'"
   ]
  },
  {
   "cell_type": "code",
   "execution_count": 12,
   "metadata": {},
   "outputs": [],
   "source": [
    "# Creates a new list\n",
    "playerlist = []"
   ]
  },
  {
   "cell_type": "code",
   "execution_count": 13,
   "metadata": {},
   "outputs": [
    {
     "output_type": "stream",
     "name": "stdout",
     "text": [
      "Read 381 player data\n"
     ]
    }
   ],
   "source": [
    "with open(infile, 'r') as csvfile:\n",
    "    ALreader = csv.reader(csvfile, dialect = 'excel', delimiter = '\\t')\n",
    "    for line in ALreader:\n",
    "        if line[0]=='' or line[0].startswith('American') or line[0].startswith('Team') or line[0].startswith('Source'):\n",
    "            continue\n",
    "        else:\n",
    "            try:\n",
    "                player = {}\n",
    "                player['team'] = line[0]\n",
    "                player['name'] = line[1]\n",
    "                player['sal'] = float(line[2].replace(',',''))\n",
    "                player['position'] = line[3]\n",
    "                playerlist.append(player)\n",
    "            except IndexError:\n",
    "                print('Error: ', line)\n",
    "csvfile.close()\n",
    "print('Read',len(playerlist), \"player data\")"
   ]
  },
  {
   "cell_type": "code",
   "execution_count": 14,
   "metadata": {},
   "outputs": [],
   "source": [
    "outfile1 = infile.replace('tsv', '') + 'report.txt'\n",
    "# open the file for writing\n",
    "fout1 = open(outfile1, 'w')\n",
    "\n",
    "# write title at top of file\n",
    "fout1.write(\"American League Baseball players average salary in 2003\\n\\n\")\n",
    "\n",
    "# compute the average salary over all players\n",
    "total_salary = 0.0\n",
    "for player in playerlist:\n",
    "    total_salary = player['sal']\n",
    "average_salary = total_salary / len(playerlist)\n",
    "\n",
    "# write a report line as a string to the file\n",
    "fout1.write('Average salary = ${:,.2f}'.format(average_salary))\n",
    "fout1.close()\n",
    "\n",
    "# Write a file with all the players who made more than $10 million.\n",
    "# We write a comma separated file, using the csv writer to quote the player names with commas\n",
    "# first create an output file name\n",
    "outfile2 = infile.replace('tsv','') + 'million.csv'\n",
    "\n",
    "# open the file\n",
    "with open(outfile2, 'w', newline='') as csvfileout:\n",
    "    # create a csv writer for a comma sep file, with quoting as needed\n",
    "    ALwriter = csv.writer(csvfileout, delimiter=',', quoting=csv.QUOTE_MINIMAL)\n",
    "    # write the header row as a list of column labels\n",
    "    ALwriter.writerow(['Player', 'Team', 'Salary'])\n",
    "    for player in playerlist:\n",
    "        # select the players with salary over 1 million\n",
    "        if (player['sal'] < 310000):\n",
    "            # write the player as a list of data items\n",
    "            ALwriter.writerow([player['name'], player['team'], player['sal']])\n",
    "\n",
    "csvfileout.close()\n"
   ]
  },
  {
   "cell_type": "code",
   "execution_count": 15,
   "metadata": {},
   "outputs": [
    {
     "output_type": "execute_result",
     "data": {
      "text/plain": [
       "float"
      ]
     },
     "metadata": {},
     "execution_count": 15
    }
   ],
   "source": [
    "type(player['sal'])"
   ]
  },
  {
   "cell_type": "code",
   "execution_count": 17,
   "metadata": {},
   "outputs": [],
   "source": [
    "outfile3 = 'pitchers.cvs'\n",
    "\n",
    "# open the file\n",
    "with open(outfile3, 'w', newline='') as pitcher:\n",
    "    # create a csv writer for a comma sep file, with quoting as needed\n",
    "    ALwriter = csv.writer(pitcher, delimiter=',', quoting=csv.QUOTE_MINIMAL)\n",
    "    # write the header row as a list of column labels\n",
    "    ALwriter.writerow(['Player', 'Team', 'Salary'])\n",
    "    for player in playerlist:\n",
    "        # select the players with salary over 1 million\n",
    "        if (player['position'] == 'Pitcher'):\n",
    "            # write the player as a list of data items\n",
    "            ALwriter.writerow([player['name'], player['team'], player['sal']])\n",
    "pitcher.close()"
   ]
  },
  {
   "cell_type": "code",
   "execution_count": null,
   "metadata": {},
   "outputs": [],
   "source": []
  }
 ]
}