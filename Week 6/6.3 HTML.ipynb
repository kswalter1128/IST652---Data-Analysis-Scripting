{
 "metadata": {
  "language_info": {
   "codemirror_mode": {
    "name": "ipython",
    "version": 3
   },
   "file_extension": ".py",
   "mimetype": "text/x-python",
   "name": "python",
   "nbconvert_exporter": "python",
   "pygments_lexer": "ipython3",
   "version": "3.8.8"
  },
  "orig_nbformat": 2,
  "kernelspec": {
   "name": "python388jvsc74a57bd0f15837fdae91b30dab61da71d8b87089474f4d12bf60a1f1e36f7e67523581b7",
   "display_name": "Python 3.8.8 64-bit ('kyles': virtualenv)"
  }
 },
 "nbformat": 4,
 "nbformat_minor": 2,
 "cells": [
  {
   "cell_type": "code",
   "execution_count": 10,
   "metadata": {},
   "outputs": [],
   "source": [
    "from urllib import request"
   ]
  },
  {
   "cell_type": "code",
   "execution_count": 11,
   "metadata": {},
   "outputs": [],
   "source": [
    "sway = \"http://feeds.feedburner.com/SecondAveSagas\"\n",
    "swayinfo = request.urlopen(sway)"
   ]
  },
  {
   "cell_type": "code",
   "execution_count": 12,
   "metadata": {},
   "outputs": [],
   "source": [
    "swaydecode = swayinfo.read().decode('utf8')"
   ]
  },
  {
   "cell_type": "code",
   "execution_count": 13,
   "metadata": {},
   "outputs": [
    {
     "output_type": "execute_result",
     "data": {
      "text/plain": [
       "str"
      ]
     },
     "metadata": {},
     "execution_count": 13
    }
   ],
   "source": [
    "type(swaydecode)"
   ]
  },
  {
   "cell_type": "code",
   "execution_count": 14,
   "metadata": {},
   "outputs": [
    {
     "output_type": "stream",
     "name": "stdout",
     "text": [
      "<?xml version=\"1.0\" encoding=\"UTF-8\"?>\n<?xml-stylesheet type=\"text/xsl\" media=\"screen\" href=\"/~d/styles/rss2full.xsl\"?><?xml-stylesheet type=\"text/css\" media=\"screen\" href=\"http://feeds.feedburner.com/~d/styles/itemcontent.css\"?><rss xmlns:content=\"http://purl.org/rss/1.0/modules/content/\" xmlns:wfw=\"http://wellformedweb.org/CommentAPI/\" xmlns:dc=\"http://purl.org/dc/elements/1.1/\" xmlns:atom=\"http://www.w3.org/2005/Atom\" xmlns:sy=\"http://purl.org/rss/1.0/modules/syndication/\" xmlns:slash=\"http://purl.org/rss/1.0/modules/slash/\" xmlns:itunes=\"http://www.itunes.com/dtds/podcast-1.0.dtd\" xmlns:podcast=\"https://github.com/Podcastindex-org/podcast-namespace/blob/main/docs/1.0.md\" xmlns:rawvoice=\"http://www.rawvoice.com/rawvoiceRssModule/\" xmlns:googleplay=\"http://www.google.com/schemas/play-podcasts/1.0\" xmlns:georss=\"http://www.georss.org/georss\" xmlns:geo=\"http://www.w3.org/2003/01/geo/wgs84_pos#\" xmlns:feedburner=\"http://rssnamespace.org/feedburner/ext/1.0\" version=\"2.0\">\n\n<channel>\n\t<title>Second Ave. Sagas</title>\n\t\n\t<link>http://secondavenuesagas.com</link>\n\t<description>A New York City Subway Blog</description>\n\t<lastBuildDate>Tue, 04 May 2021 05:10:46 +0000</lastBuildDate>\n\t<language>en-US</language>\n\t<sy:updatePeriod>\n\thourly\t</sy:updatePeriod>\n\t<sy:updateFrequency>\n\t1\t</sy:updateFrequency>\n\t<generator>https://wordpress.org/?v=5.7.1</generator>\n<!-- podcast_generator=\"Blubrry PowerPress/8.6.2\" mode=\"simple\" feedslug=\"feed\" Blubrry PowerPress Podcasting plugin for WordPress (https://www.blubrry.com/powerpress/) -->\n\t\n\t<itunes:summary>A New York City Subway Blog</itunes:summary>\n\t<itunes:author>Second Ave. Sagas</itunes:author>\n\t<itunes:image href=\"http://secondavenuesagas.com/wp-content/plugins/powerpress/itunes_default.jpg\" />\n\t<itunes:subtitle>A New York City Subway Blog</itunes:subtitle>\n\t<image>\n\t\t<title>Second Ave. Sagas</title>\n\t\t<url>http://secondavenuesagas.com/wp-content/plugins/powerpress/rss_default.jpg</url>\n\t\t<link>http://secondavenuesagas.com</link>\n\t</image>\n<site xmlns=\"com-wordpress:feed-additions:1\">1990351</site>\t<atom10:link xmlns:atom10=\"http://www.w3.org/2005/Atom\" rel=\"self\" type=\"application/rss+xml\" href=\"http://feeds.feedburner.com/SecondAveSagas\" /><feedburner:info uri=\"secondavesagas\" /><atom10:link xmlns:atom10=\"http://www.w3.org/2005/Atom\" rel=\"hub\" href=\"http://pubsubhubbub.appspot.com/\" /><feedburner:emailServiceId>SecondAveSagas</feedburner:emailServiceId><feedburner:feedburnerHostname>https://feedburner.google.com</feedburner:feedburnerHostname><item>\n\t\t<title>Gov. Cuomo, in charge of the MTA, announces May 17th return of 24/7 subway service</title>\n\t\t<link>http://feedproxy.google.com/~r/SecondAveSagas/~3/Eqhqrzv2Lfw/</link>\n\t\t\t\t\t<comments>http://secondavenuesagas.com/2021/05/04/gov-cuomo-in-charge-of-the-mta-announces-may-17th-return-of-24-7-subway-service/#comments</comments>\n\t\t\n\t\t<dc:creator><![CDATA[Benjamin Kabak]]></dc:creator>\n\t\t<pubDate>Tue, 04 May 2021 05:08:24 +0000</pubDate>\n\t\t\t\t<category><![CDATA[MTA Politics]]></category>\n\t\t<category><![CDATA[New York City Transit]]></category>\n\t\t<guid isPermaLink=\"false\">https://secondavenuesagas.com/?p=17560</guid>\n\n\t\t\t\t\t<description><![CDATA[Just over a year to the date since Gov. Andrew Cuomo barred passengers from late-night subways, the man in charge of the MTA announced the return of 24/7 subway service.&#8230;]]></description>\n\t\t\t\t\t\t\t\t\t\t<content:encoded><![CDATA[<div id=\"attachment_17544\" style=\"width: 610px\" class=\"wp-caption aligncenter\"><img aria-describedby=\"caption-attachment-17544\" loading=\"lazy\" src=\"http://secondavenuesagas.com/wp-content/uploads/2021/01/IMG_6193-600x600.jpg\" alt=\"\" width=\"600\" height=\"600\" class=\"size-medium wp-image-17544\" srcset=\"http://secondavenuesagas.com/wp-content/uploads/2021/01/IMG_6193-600x600.jpg 600w, http://secondavenuesagas.com/wp-content/uploads/2021/01/IMG_6193-1024x1024.jpg 1024w, http://secondavenuesagas.com/wp-content/uploads/2021/01/IMG_6193-150x150.jpg 150w, http://secondavenuesagas.com/wp-content/uploads/2021/01/IMG_6193-768x768.jpg 768w, http://secondavenuesagas.com/wp-content/uploads/2021/01/IMG_6193-1170x1170.jpg 1170w, http://secondavenuesagas.com/wp-content/uploads/2021/01/IMG_6193-585x585.jpg 585w, http://secondavenuesagas.com/wp-content/uploads/2021/01/IMG_6193.jpg 1200w\" sizes=\"(max-width: 600px) 100vw, 600px\" /><p id=\"caption-attachment-17544\" class=\"wp-caption-text\">This sign will become a collector&#8217;s item as the overnight subway shutdown will end on May 17, Gov. Cuomo announced Monday. (Photo by Benjamin Kabak)</p></div>\n<p>Just over a year to the date since Gov. Andrew Cuomo <a href=\"https://secondavenuesagas.com/2020/05/01/gov-cuomo-announces-the-end-of-overnight-subway-service-for-now-as-cleanliness-homelessness-concerns-emerge/\">barred passengers from late-night subways</a>, the man in charge of the MTA announced the return of 24/7 subway service. The trains, which kept running all night every night for the last year, will see the return of passengers between 2 a.m. and 4 a.m. on May 17th when outdoor dining curfews and pandemic-related capacity limits wind down. It&#8217;s welcome news for essential workers who saw their late-night commute times spike and costs increase while they just tried to keep NYC running throughout a pandemic, and it&#8217;s a sign that life may be returning to normal sooner rather than later. </p>\n<p>For many transit advocates and enthusiasts, the news comes with a great sigh of relief as worry had spread that the governor would use the pandemic shutdown to end 24/7 subway service once and for all. After all, the governor had signaled for years through his MTA Board loyalists that 24/7 passenger service was a luxury for New York rather than the necessity we know it is, and MTA officials <a href=\"https://twitter.com/2AvSagas/status/1271097914740428801\">had once said</a> the subways were &#8220;going to stay closed overnight&#8230;at least through the pandemic.&#8221;</p>\n<p>But once the governor rolled back the four-hour shutdown to two a few weeks ago, we knew logistics and political pressure would eventually win out. The MTA simply cannot park all of its trains securely and kept running empty subways each night throughout the pandemic. Once Senator Chuck Schumer joined the fray, calling this weekend for the return of 24/7 service, it was all but inevitable that Cuomo would cave. </p>\n<p>In announcing the restoration of service, Cuomo again trumped the disinfecting regime and baselessly hinted that the subways were responsible for the spread of COVID, his long-time cover for a policy driven by media coverage of homeless New Yorkers sprawled across subway seats and a safety crisis during the worst few weeks of the initial wave of the pandemic. </p>\n<p>&#8220;COVID-19 is on the decline in New York City and across New York State, and as we shift our focus to rebuilding our economy, helping businesses and putting people back to work, it&#8217;s time to bring the subway back to full capacity,&#8221; the governor said, taking responsibility for the MTA he controls. &#8220;We reduced subway service more than a year ago to disinfect our trains and combat the rising tide of COVID cases, and we&#8217;re going to restore 24-hour service as New York gets back on the right track. This expansion will help working people, businesses and families get back to normal as the city reopens and reimagines itself for a new future.&#8221;</p>\n<div style=\"width: 1034px\" class=\"wp-caption aligncenter\"><a href=\"https://www.flickr.com/photos/governorandrewcuomo/49984402818/in/album-72157714625907523/\"><img loading=\"lazy\" src=\"https://live.staticflickr.com/65535/49984402818_ab3a072a8c_b.jpg\" width=\"1024\" height=\"683\" class=\"size-large\" /></a><p class=\"wp-caption-text\">Despite a heavy security presence, the governor claimed Monday that he felt on safe during his last subway ride on June 8, 2020. (Photo via governorandrewcuomo on flickr)</p></div>\n<p>Yet, the governor also went off script in some head-scratching ways. The governor, who has not ridden the subway since June 8 when he took a 7 train four stops from Court Square to Grand Central, claimed he felt physically unsafe on the subway (despite being surrounded by <a href=\"https://www.flickr.com/photos/governorandrewcuomo/49984402818/in/album-72157714625907523/\">numerous cops</a> and <a href=\"https://www.flickr.com/photos/governorandrewcuomo/49984533823/in/album-72157714625907523/\">adoring fans</a>). “As you know, I am a New Yorker. I am smart. I am New York tough. Don’t lie to me and don’t play me as a fool. I’m on the subway. It’s safe. Oh, really? Have you been on the subway? Because I have. And I was scared. Tell your child to ride subway, it’s safe. I’m not telling my child to ride the subway, because I’m afraid for my child,” Cuomo said.</p>\n<p>I&#8217;ll get into the ins and outs of the ongoing conversation about safety in the subway in an upcoming post, but it&#8217;s all part of his feud with the mayor. The numbers show major felonies in the trains are up only slightly but transit workers are getting assaulted at alarming rates and misdemeanors and harassment over goes under- or unreported. MTA officials and Cuomo aides have talked up concerns about subway security while city cops have stressed the massive decrease in crime since last April and the relative safety of the system. The governor, who controls the MTA, should not be adding to the fearmongering, especially as he trumpets New York&#8217;s reopening and a return of passengers to overnight subways.</p>\n<p>But the governor couldn&#8217;t resist plying the subway shutdown as another part of his infamous feuds with the mayor. Bill de Blasio had called for a resumption of normal life in New York City by July 1, but the governor has decided mid-May is the appropriate timeline. The mayor didn&#8217;t put up much of a fight on &#8220;Inside City Hall&#8221; on Monday night, suggesting that his July 1 date\n"
     ]
    }
   ],
   "source": [
    "print(swaydecode[:10000])"
   ]
  },
  {
   "cell_type": "code",
   "execution_count": 17,
   "metadata": {},
   "outputs": [
    {
     "output_type": "error",
     "ename": "AttributeError",
     "evalue": "'str' object has no attribute 'soup'",
     "traceback": [
      "\u001b[1;31m---------------------------------------------------------------------------\u001b[0m",
      "\u001b[1;31mAttributeError\u001b[0m                            Traceback (most recent call last)",
      "\u001b[1;32m<ipython-input-17-f6464d891b3e>\u001b[0m in \u001b[0;36m<module>\u001b[1;34m\u001b[0m\n\u001b[0;32m      1\u001b[0m \u001b[1;32mfrom\u001b[0m \u001b[0mbs4\u001b[0m \u001b[1;32mimport\u001b[0m \u001b[0mBeautifulSoup\u001b[0m\u001b[1;33m\u001b[0m\u001b[1;33m\u001b[0m\u001b[0m\n\u001b[1;32m----> 2\u001b[1;33m \u001b[0msway\u001b[0m\u001b[1;33m.\u001b[0m\u001b[0msoup\u001b[0m \u001b[1;33m=\u001b[0m \u001b[0mBeautifulSoup\u001b[0m\u001b[1;33m(\u001b[0m\u001b[0mswaydecode\u001b[0m\u001b[1;33m,\u001b[0m \u001b[1;34m\"html.parser\"\u001b[0m\u001b[1;33m)\u001b[0m\u001b[1;33m\u001b[0m\u001b[1;33m\u001b[0m\u001b[0m\n\u001b[0m",
      "\u001b[1;31mAttributeError\u001b[0m: 'str' object has no attribute 'soup'"
     ]
    }
   ],
   "source": [
    "from bs4 import BeautifulSoup\n",
    "sway.soup = BeautifulSoup(swaydecode, \"html.parser\")"
   ]
  },
  {
   "cell_type": "code",
   "execution_count": null,
   "metadata": {},
   "outputs": [],
   "source": []
  }
 ]
}