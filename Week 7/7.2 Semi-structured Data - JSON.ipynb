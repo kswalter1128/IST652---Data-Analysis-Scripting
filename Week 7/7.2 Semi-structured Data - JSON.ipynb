{
 "metadata": {
  "language_info": {
   "codemirror_mode": {
    "name": "ipython",
    "version": 3
   },
   "file_extension": ".py",
   "mimetype": "text/x-python",
   "name": "python",
   "nbconvert_exporter": "python",
   "pygments_lexer": "ipython3",
   "version": "3.8.8"
  },
  "orig_nbformat": 2,
  "kernelspec": {
   "name": "python388jvsc74a57bd0f15837fdae91b30dab61da71d8b87089474f4d12bf60a1f1e36f7e67523581b7",
   "display_name": "Python 3.8.8 64-bit ('kyles': virtualenv)"
  }
 },
 "nbformat": 4,
 "nbformat_minor": 2,
 "cells": [
  {
   "cell_type": "code",
   "execution_count": 1,
   "metadata": {},
   "outputs": [],
   "source": [
    "import urllib.request\n",
    "earthquake_url = \"http://earthquake.usgs.gov/earthquakes/feed/v1.0/summary/significant_month.geojson\""
   ]
  },
  {
   "cell_type": "code",
   "execution_count": 3,
   "metadata": {},
   "outputs": [],
   "source": [
    "jsonString = urllib.request.urlopen(earthquake_url).read().decode('utf8')"
   ]
  },
  {
   "cell_type": "code",
   "execution_count": 4,
   "metadata": {},
   "outputs": [
    {
     "output_type": "execute_result",
     "data": {
      "text/plain": [
       "str"
      ]
     },
     "metadata": {},
     "execution_count": 4
    }
   ],
   "source": [
    "type(jsonString)"
   ]
  },
  {
   "cell_type": "code",
   "execution_count": 5,
   "metadata": {},
   "outputs": [],
   "source": [
    "import json\n",
    "eqParsedJson = json.loads(jsonString)"
   ]
  },
  {
   "cell_type": "code",
   "execution_count": 6,
   "metadata": {},
   "outputs": [
    {
     "output_type": "execute_result",
     "data": {
      "text/plain": [
       "dict"
      ]
     },
     "metadata": {},
     "execution_count": 6
    }
   ],
   "source": [
    "type(eqParsedJson)"
   ]
  },
  {
   "cell_type": "code",
   "execution_count": 8,
   "metadata": {},
   "outputs": [
    {
     "output_type": "execute_result",
     "data": {
      "text/plain": [
       "dict_keys(['type', 'metadata', 'features', 'bbox'])"
      ]
     },
     "metadata": {},
     "execution_count": 8
    }
   ],
   "source": [
    "eqParsedJson.keys()"
   ]
  },
  {
   "cell_type": "code",
   "execution_count": 10,
   "metadata": {},
   "outputs": [
    {
     "output_type": "execute_result",
     "data": {
      "text/plain": [
       "{'generated': 1621094074000,\n",
       " 'url': 'https://earthquake.usgs.gov/earthquakes/feed/v1.0/summary/significant_month.geojson',\n",
       " 'title': 'USGS Significant Earthquakes, Past Month',\n",
       " 'status': 200,\n",
       " 'api': '1.10.3',\n",
       " 'count': 12}"
      ]
     },
     "metadata": {},
     "execution_count": 10
    }
   ],
   "source": [
    "eqParsedJson['metadata']"
   ]
  },
  {
   "cell_type": "code",
   "execution_count": 11,
   "metadata": {},
   "outputs": [
    {
     "output_type": "execute_result",
     "data": {
      "text/plain": [
       "'USGS Significant Earthquakes, Past Month'"
      ]
     },
     "metadata": {},
     "execution_count": 11
    }
   ],
   "source": [
    "eqParsedJson['metadata']['title']"
   ]
  },
  {
   "cell_type": "code",
   "execution_count": 12,
   "metadata": {},
   "outputs": [
    {
     "output_type": "execute_result",
     "data": {
      "text/plain": [
       "12"
      ]
     },
     "metadata": {},
     "execution_count": 12
    }
   ],
   "source": [
    "quakelist = eqParsedJson['features']\n",
    "len(quakelist)"
   ]
  },
  {
   "cell_type": "code",
   "execution_count": 13,
   "metadata": {},
   "outputs": [
    {
     "output_type": "execute_result",
     "data": {
      "text/plain": [
       "{'type': 'Feature',\n",
       " 'properties': {'mag': 6.6,\n",
       "  'place': '257 km S of Sinabang, Indonesia',\n",
       "  'time': 1620973987978,\n",
       "  'updated': 1621060853467,\n",
       "  'tz': None,\n",
       "  'url': 'https://earthquake.usgs.gov/earthquakes/eventpage/us7000e2zt',\n",
       "  'detail': 'https://earthquake.usgs.gov/earthquakes/feed/v1.0/detail/us7000e2zt.geojson',\n",
       "  'felt': 8,\n",
       "  'cdi': 6,\n",
       "  'mmi': 4.411,\n",
       "  'alert': 'green',\n",
       "  'status': 'reviewed',\n",
       "  'tsunami': 0,\n",
       "  'sig': 675,\n",
       "  'net': 'us',\n",
       "  'code': '7000e2zt',\n",
       "  'ids': ',us7000e2zt,',\n",
       "  'sources': ',us,',\n",
       "  'types': ',dyfi,ground-failure,losspager,moment-tensor,origin,phase-data,shakemap,',\n",
       "  'nst': None,\n",
       "  'dmin': 1.46,\n",
       "  'rms': 0.9,\n",
       "  'gap': 63,\n",
       "  'magType': 'mww',\n",
       "  'type': 'earthquake',\n",
       "  'title': 'M 6.6 - 257 km S of Sinabang, Indonesia'},\n",
       " 'geometry': {'type': 'Point', 'coordinates': [96.6475, 0.1684, 10]},\n",
       " 'id': 'us7000e2zt'}"
      ]
     },
     "metadata": {},
     "execution_count": 13
    }
   ],
   "source": [
    "quakelist[0]"
   ]
  },
  {
   "cell_type": "code",
   "execution_count": 14,
   "metadata": {},
   "outputs": [
    {
     "output_type": "stream",
     "name": "stdout",
     "text": [
      "{\n  \"type\": \"Feature\",\n  \"properties\": {\n    \"mag\": 6.6,\n    \"place\": \"257 km S of Sinabang, Indonesia\",\n    \"time\": 1620973987978,\n    \"updated\": 1621060853467,\n    \"tz\": null,\n    \"url\": \"https://earthquake.usgs.gov/earthquakes/eventpage/us7000e2zt\",\n    \"detail\": \"https://earthquake.usgs.gov/earthquakes/feed/v1.0/detail/us7000e2zt.geojson\",\n    \"felt\": 8,\n    \"cdi\": 6,\n    \"mmi\": 4.411,\n    \"alert\": \"green\",\n    \"status\": \"reviewed\",\n    \"tsunami\": 0,\n    \"sig\": 675,\n    \"net\": \"us\",\n    \"code\": \"7000e2zt\",\n    \"ids\": \",us7000e2zt,\",\n    \"sources\": \",us,\",\n    \"types\": \",dyfi,ground-failure,losspager,moment-tensor,origin,phase-data,shakemap,\",\n    \"nst\": null,\n    \"dmin\": 1.46,\n    \"rms\": 0.9,\n    \"gap\": 63,\n    \"magType\": \"mww\",\n    \"type\": \"earthquake\",\n    \"title\": \"M 6.6 - 257 km S of Sinabang, Indonesia\"\n  },\n  \"geometry\": {\n    \"type\": \"Point\",\n    \"coordinates\": [\n      96.6475,\n      0.1684,\n      10\n    ]\n  },\n  \"id\": \"us7000e2zt\"\n}\n"
     ]
    }
   ],
   "source": [
    "print(json.dumps(quakelist[0], indent=2))"
   ]
  },
  {
   "cell_type": "code",
   "execution_count": null,
   "metadata": {},
   "outputs": [],
   "source": []
  }
 ]
}