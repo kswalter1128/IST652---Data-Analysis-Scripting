{
 "metadata": {
  "language_info": {
   "codemirror_mode": {
    "name": "ipython",
    "version": 3
   },
   "file_extension": ".py",
   "mimetype": "text/x-python",
   "name": "python",
   "nbconvert_exporter": "python",
   "pygments_lexer": "ipython3",
   "version": "3.8.8"
  },
  "orig_nbformat": 2,
  "kernelspec": {
   "name": "python388jvsc74a57bd0f15837fdae91b30dab61da71d8b87089474f4d12bf60a1f1e36f7e67523581b7",
   "display_name": "Python 3.8.8 64-bit ('kyles': virtualenv)"
  }
 },
 "nbformat": 4,
 "nbformat_minor": 2,
 "cells": [
  {
   "cell_type": "code",
   "execution_count": 1,
   "metadata": {},
   "outputs": [],
   "source": [
    "#Import the Package\n",
    "import pymongo"
   ]
  },
  {
   "cell_type": "code",
   "execution_count": 2,
   "metadata": {},
   "outputs": [],
   "source": [
    "#Connect to the Database\n",
    "from pymongo import MongoClient\n",
    "client = MongoClient('localhost', 27017)"
   ]
  },
  {
   "cell_type": "code",
   "execution_count": 3,
   "metadata": {},
   "outputs": [
    {
     "output_type": "execute_result",
     "data": {
      "text/plain": [
       "<bound method MongoClient.list_database_names of MongoClient(host=['localhost:27017'], document_class=dict, tz_aware=False, connect=True)>"
      ]
     },
     "metadata": {},
     "execution_count": 3
    }
   ],
   "source": [
    "# Show existing data bases\n",
    "client.list_database_names"
   ]
  },
  {
   "cell_type": "code",
   "execution_count": 4,
   "metadata": {},
   "outputs": [],
   "source": [
    "#Create a database classed people\n",
    "db = client.peopledb"
   ]
  },
  {
   "cell_type": "code",
   "execution_count": 5,
   "metadata": {},
   "outputs": [
    {
     "output_type": "execute_result",
     "data": {
      "text/plain": [
       "<bound method Database.list_collection_names of Database(MongoClient(host=['localhost:27017'], document_class=dict, tz_aware=False, connect=True), 'peopledb')>"
      ]
     },
     "metadata": {},
     "execution_count": 5
    }
   ],
   "source": [
    "db.list_collection_names"
   ]
  },
  {
   "cell_type": "code",
   "execution_count": 6,
   "metadata": {},
   "outputs": [],
   "source": [
    "peoplecoll = db.people"
   ]
  },
  {
   "cell_type": "code",
   "execution_count": 7,
   "metadata": {},
   "outputs": [
    {
     "output_type": "execute_result",
     "data": {
      "text/plain": [
       "pymongo.collection.Collection"
      ]
     },
     "metadata": {},
     "execution_count": 7
    }
   ],
   "source": [
    "type(peoplecoll)"
   ]
  },
  {
   "cell_type": "code",
   "execution_count": 8,
   "metadata": {},
   "outputs": [],
   "source": [
    "peoplelist = [{'name':'John Smith', 'age':'30'}, {'name':'Bo Bennett', 'age':'23'}, {'name':'Anna Jones','age':'25'}]"
   ]
  },
  {
   "cell_type": "code",
   "execution_count": 9,
   "metadata": {},
   "outputs": [
    {
     "output_type": "execute_result",
     "data": {
      "text/plain": [
       "<pymongo.results.InsertOneResult at 0x2466c27a8c0>"
      ]
     },
     "metadata": {},
     "execution_count": 9
    }
   ],
   "source": [
    "peoplecoll.insert_one(peoplelist[0])"
   ]
  },
  {
   "cell_type": "code",
   "execution_count": 10,
   "metadata": {},
   "outputs": [
    {
     "output_type": "execute_result",
     "data": {
      "text/plain": [
       "<pymongo.results.InsertManyResult at 0x2466d2a8740>"
      ]
     },
     "metadata": {},
     "execution_count": 10
    }
   ],
   "source": [
    "peoplecoll.insert_many(peoplelist[1:])"
   ]
  },
  {
   "cell_type": "code",
   "execution_count": 13,
   "metadata": {},
   "outputs": [],
   "source": [
    "docs = peoplecoll.find()"
   ]
  },
  {
   "cell_type": "code",
   "execution_count": 14,
   "metadata": {},
   "outputs": [
    {
     "output_type": "execute_result",
     "data": {
      "text/plain": [
       "pymongo.cursor.Cursor"
      ]
     },
     "metadata": {},
     "execution_count": 14
    }
   ],
   "source": [
    "type(docs)"
   ]
  },
  {
   "cell_type": "code",
   "execution_count": 16,
   "metadata": {},
   "outputs": [
    {
     "output_type": "stream",
     "name": "stdout",
     "text": [
      "{'_id': ObjectId('60a13c3614b14e30aabe2374'), 'name': 'John Smith', 'age': '30'}\n{'_id': ObjectId('60a13c4714b14e30aabe2375'), 'name': 'Bo Bennett', 'age': '23'}\n{'_id': ObjectId('60a13c4714b14e30aabe2376'), 'name': 'Anna Jones', 'age': '25'}\n"
     ]
    }
   ],
   "source": [
    "for doc in docs:\n",
    "    print(doc)"
   ]
  },
  {
   "cell_type": "code",
   "execution_count": 17,
   "metadata": {},
   "outputs": [],
   "source": [
    "morepeoplelist = [{ \"name\": \"Britney Sykes\", \"age\": 21 , \n",
    "'position':'Guard'}, { \"name\": \"Briana Day\", \"age\": 21, \n",
    "'position':'Center'}, { \"name\": \"Alexis Peterson\", \"age\": 21, \n",
    "'position':'Guard' }, { \"name\": \"Gabby Cooper\", \"age\": 18, \n",
    "'position':'Guard'}]"
   ]
  },
  {
   "cell_type": "code",
   "execution_count": 18,
   "metadata": {},
   "outputs": [
    {
     "output_type": "execute_result",
     "data": {
      "text/plain": [
       "<pymongo.results.InsertManyResult at 0x2466d291840>"
      ]
     },
     "metadata": {},
     "execution_count": 18
    }
   ],
   "source": [
    "peoplecoll.insert_many(morepeoplelist)"
   ]
  },
  {
   "cell_type": "code",
   "execution_count": 20,
   "metadata": {},
   "outputs": [
    {
     "output_type": "stream",
     "name": "stdout",
     "text": [
      "{'_id': ObjectId('60a13c3614b14e30aabe2374'), 'name': 'John Smith', 'age': '30'}\n{'_id': ObjectId('60a13c4714b14e30aabe2375'), 'name': 'Bo Bennett', 'age': '23'}\n{'_id': ObjectId('60a13c4714b14e30aabe2376'), 'name': 'Anna Jones', 'age': '25'}\n{'_id': ObjectId('60a13d4214b14e30aabe2377'), 'name': 'Britney Sykes', 'age': 21, 'position': 'Guard'}\n{'_id': ObjectId('60a13d4214b14e30aabe2378'), 'name': 'Briana Day', 'age': 21, 'position': 'Center'}\n{'_id': ObjectId('60a13d4214b14e30aabe2379'), 'name': 'Alexis Peterson', 'age': 21, 'position': 'Guard'}\n{'_id': ObjectId('60a13d4214b14e30aabe237a'), 'name': 'Gabby Cooper', 'age': 18, 'position': 'Guard'}\n"
     ]
    }
   ],
   "source": [
    "#Reutuns all results\n",
    "docs = peoplecoll.find()\n",
    "for doc in docs:\n",
    "    print(doc)"
   ]
  },
  {
   "cell_type": "code",
   "execution_count": 21,
   "metadata": {},
   "outputs": [
    {
     "output_type": "stream",
     "name": "stdout",
     "text": [
      "{'_id': ObjectId('60a13c4714b14e30aabe2376'), 'name': 'Anna Jones', 'age': '25'}\n"
     ]
    }
   ],
   "source": [
    "result = peoplecoll.find_one({'name':'Anna Jones'})\n",
    "print(result)"
   ]
  },
  {
   "cell_type": "code",
   "execution_count": 37,
   "metadata": {},
   "outputs": [
    {
     "output_type": "stream",
     "name": "stdout",
     "text": [
      "<pymongo.cursor.Cursor object at 0x000002466DED3430>\n<pymongo.cursor.Cursor object at 0x000002466DED3430>\n<pymongo.cursor.Cursor object at 0x000002466DED3430>\n"
     ]
    }
   ],
   "source": [
    "#find more results like a query\n",
    "results=peoplecoll.find({'position':'Guard'})\n",
    "for result in results:\n",
    "    print(results)"
   ]
  },
  {
   "cell_type": "code",
   "execution_count": 31,
   "metadata": {},
   "outputs": [
    {
     "output_type": "stream",
     "name": "stdout",
     "text": [
      "{'_id': ObjectId('60a13d4214b14e30aabe237a'), 'name': 'Gabby Cooper', 'age': 18, 'position': 'Guard'}\n"
     ]
    }
   ],
   "source": [
    "#Find Players Less than 20\n",
    "youngplayers = peoplecoll.find({'age':{'$lt': 20}})\n",
    "for player in youngplayers:\n",
    "    print(player)"
   ]
  },
  {
   "cell_type": "code",
   "execution_count": null,
   "metadata": {},
   "outputs": [],
   "source": []
  }
 ]
}