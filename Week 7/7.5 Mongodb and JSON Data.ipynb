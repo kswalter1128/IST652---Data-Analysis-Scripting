{
 "metadata": {
  "language_info": {
   "codemirror_mode": {
    "name": "ipython",
    "version": 3
   },
   "file_extension": ".py",
   "mimetype": "text/x-python",
   "name": "python",
   "nbconvert_exporter": "python",
   "pygments_lexer": "ipython3",
   "version": "3.8.8"
  },
  "orig_nbformat": 2,
  "kernelspec": {
   "name": "python388jvsc74a57bd0f15837fdae91b30dab61da71d8b87089474f4d12bf60a1f1e36f7e67523581b7",
   "display_name": "Python 3.8.8 64-bit ('kyles': virtualenv)"
  }
 },
 "nbformat": 4,
 "nbformat_minor": 2,
 "cells": [
  {
   "cell_type": "code",
   "execution_count": 5,
   "metadata": {},
   "outputs": [],
   "source": [
    "import urllib.request\n",
    "import json\n",
    "import pymongo"
   ]
  },
  {
   "cell_type": "code",
   "execution_count": 6,
   "metadata": {},
   "outputs": [],
   "source": [
    "earthquake_url=\"http://earthquake.usgs.gov/earthquakes/feed/v1.0/summary/significant_month.geojson\""
   ]
  },
  {
   "cell_type": "code",
   "execution_count": 9,
   "metadata": {},
   "outputs": [],
   "source": [
    "try:\n",
    "    response = urllib.request.urlopen(earthquake_url)\n",
    "except urllib.error.URLError as e:\n",
    "    if hasattr(e, 'reason'):\n",
    "        print('We failed to reach server.')\n",
    "        print('Reason: ', e.reason)\n",
    "    elif hasattr(e, 'code'):\n",
    "        print('The Server could not fulfill the request.')\n",
    "        print('Error code: ', e.code)\n",
    "else:\n",
    "    #request was successful - response to string\n",
    "    json_string = response.read().decode('utf-8')\n",
    "    eq_json = json.loads(json_string)\n",
    "    quakelist = eq_json['features']\n"
   ]
  },
  {
   "cell_type": "code",
   "execution_count": 10,
   "metadata": {},
   "outputs": [
    {
     "output_type": "stream",
     "name": "stdout",
     "text": [
      "Connected successfully!!!\nAdded 12 to earth quakes\n"
     ]
    }
   ],
   "source": [
    "#Connect to MongoDb\n",
    "try:\n",
    "    client = pymongo.MongoClient('localhost',27017)\n",
    "    print('Connected successfully!!!')\n",
    "except pymongo.errors.ConnectionFailure as e:\n",
    "    print(\"Couldn't connect to MongoDB: %s\" %e)\n",
    "else:\n",
    "    eqdb = client.usgs\n",
    "    quakecoll= eqdb.earthquakes\n",
    "    quakecoll.insert_many(quakelist)\n",
    "    print('Added', len(quakelist), \"to earth quakes\")\n",
    "    client.close()"
   ]
  },
  {
   "cell_type": "code",
   "execution_count": null,
   "metadata": {},
   "outputs": [],
   "source": []
  }
 ]
}