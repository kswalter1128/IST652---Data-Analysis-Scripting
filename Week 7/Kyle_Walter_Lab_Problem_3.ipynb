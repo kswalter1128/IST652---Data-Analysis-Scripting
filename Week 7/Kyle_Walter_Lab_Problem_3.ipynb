{
 "metadata": {
  "language_info": {
   "codemirror_mode": {
    "name": "ipython",
    "version": 3
   },
   "file_extension": ".py",
   "mimetype": "text/x-python",
   "name": "python",
   "nbconvert_exporter": "python",
   "pygments_lexer": "ipython3",
   "version": "3.8.8"
  },
  "orig_nbformat": 2,
  "kernelspec": {
   "name": "python388jvsc74a57bd0f15837fdae91b30dab61da71d8b87089474f4d12bf60a1f1e36f7e67523581b7",
   "display_name": "Python 3.8.8 64-bit ('kyles': virtualenv)"
  }
 },
 "nbformat": 4,
 "nbformat_minor": 2,
 "cells": [
  {
   "cell_type": "code",
   "execution_count": 1,
   "metadata": {},
   "outputs": [],
   "source": [
    "#Problem 1 : write a python function to multiple numbers in a list and test three times\n",
    "def listProduct(mylist):\n",
    "    try:\n",
    "     value = 1\n",
    "     for x in mylist:\n",
    "        value = value * x\n",
    "     return value\n",
    "    except:\n",
    "        print('This function only accepts numbers!')"
   ]
  },
  {
   "cell_type": "code",
   "execution_count": 2,
   "metadata": {},
   "outputs": [
    {
     "output_type": "execute_result",
     "data": {
      "text/plain": [
       "336"
      ]
     },
     "metadata": {},
     "execution_count": 2
    }
   ],
   "source": [
    "#Test 1: Sample should equal 336\r\n",
    "numbers = [8,2,3,-1,-7]\r\n",
    "listProduct(numbers)"
   ]
  },
  {
   "cell_type": "code",
   "execution_count": 3,
   "metadata": {},
   "outputs": [
    {
     "output_type": "execute_result",
     "data": {
      "text/plain": [
       "3374784"
      ]
     },
     "metadata": {},
     "execution_count": 3
    }
   ],
   "source": [
    "#Test 2: Sample should equal 3374784\n",
    "ages = [27,32,62,63]\n",
    "listProduct(ages)"
   ]
  },
  {
   "cell_type": "code",
   "execution_count": 4,
   "metadata": {},
   "outputs": [
    {
     "output_type": "execute_result",
     "data": {
      "text/plain": [
       "28162.259999999995"
      ]
     },
     "metadata": {},
     "execution_count": 4
    }
   ],
   "source": [
    "#Test 3: Sample should equal 28162.25999\r\n",
    "othernumbers = [12.36,3.5,2.17,5,2,2,3,5]\r\n",
    "listProduct(othernumbers)"
   ]
  },
  {
   "cell_type": "code",
   "execution_count": 5,
   "metadata": {},
   "outputs": [
    {
     "output_type": "stream",
     "name": "stdout",
     "text": [
      "This function only accepts numbers!\n"
     ]
    }
   ],
   "source": [
    "#Test 4 should product error Alert\n",
    "brokeList=[3,6,-35.4,'a']\n",
    "listProduct(brokeList)"
   ]
  },
  {
   "cell_type": "code",
   "execution_count": 6,
   "metadata": {},
   "outputs": [],
   "source": [
    "#Problem 2 : Write a function that accepts a string and calculates the number of upper case and lower case letters\n",
    "\n",
    "def characterCaseCount(string):\n",
    "    counts={\"Upper\":0, \"Lower\":0}\n",
    "    for letter in string:\n",
    "        if letter.islower():\n",
    "            counts['Lower']+=1\n",
    "        elif letter.isupper():\n",
    "            counts['Upper']+=1\n",
    "    print(\"Original String: \", string)\n",
    "    print(\"Number of upper case letters: \", counts['Upper'])\n",
    "    print(\"Number of lower case letters: \", counts['Lower'])"
   ]
  },
  {
   "cell_type": "code",
   "execution_count": 7,
   "metadata": {},
   "outputs": [
    {
     "output_type": "stream",
     "name": "stdout",
     "text": [
      "Original String:  The quick Brown Fox\nNumber of upper case letters:  3\nNumber of lower case letters:  13\n"
     ]
    }
   ],
   "source": [
    "string1=\"The quick Brown Fox\"\n",
    "characterCaseCount(string1)"
   ]
  },
  {
   "cell_type": "code",
   "execution_count": 8,
   "metadata": {},
   "outputs": [
    {
     "output_type": "stream",
     "name": "stdout",
     "text": [
      "Original String:  Oy Vey! Leaving Brookly?! Forgettaboutit!\nNumber of upper case letters:  5\nNumber of lower case letters:  28\n"
     ]
    }
   ],
   "source": [
    "String2 = \"Oy Vey! Leaving Brookly?! Forgettaboutit!\"\n",
    "characterCaseCount(String2)"
   ]
  },
  {
   "cell_type": "code",
   "execution_count": 9,
   "metadata": {},
   "outputs": [
    {
     "output_type": "stream",
     "name": "stdout",
     "text": [
      "Original String:  You know you've been in NYC too long when Tuesday is a more acceptable day to go out than Friday!\nNumber of upper case letters:  6\nNumber of lower case letters:  70\n"
     ]
    }
   ],
   "source": [
    "String3 = \"You know you've been in NYC too long when Tuesday is a more acceptable day to go out than Friday!\"\n",
    "characterCaseCount(String3)"
   ]
  },
  {
   "cell_type": "code",
   "execution_count": null,
   "metadata": {},
   "outputs": [],
   "source": []
  }
 ]
}