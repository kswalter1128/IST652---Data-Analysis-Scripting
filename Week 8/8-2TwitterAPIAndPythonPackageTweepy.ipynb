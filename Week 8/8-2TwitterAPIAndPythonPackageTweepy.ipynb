{
 "cells": [
  {
   "cell_type": "code",
   "execution_count": 8,
   "metadata": {},
   "outputs": [],
   "source": [
    "# import the necessary libraries\n",
    "import urllib.request\n",
    "import json\n",
    "import pymongo"
   ]
  },
  {
   "cell_type": "code",
   "execution_count": 9,
   "metadata": {},
   "outputs": [],
   "source": [
    "# read contents of the twitter data\n",
    "# decodes txt file and converts to json\n",
    "bball_url = \"https://2su.datascience.syr.edu/content/files-api/files/40aced0c-cd48-4bdd-903e-eae2d2dc3f71\"\n",
    "bball_page = urllib.request.urlopen(bball_url)\n",
    "bball_str = bball_page.read().decode('utf-8')\n",
    "bball_data = json.loads(bball_str.replace(\"$\", \"\"))"
   ]
  },
  {
   "cell_type": "code",
   "execution_count": 10,
   "metadata": {},
   "outputs": [
    {
     "output_type": "stream",
     "name": "stdout",
     "text": [
      "<class 'list'>\n<class 'dict'>\n"
     ]
    }
   ],
   "source": [
    "# now we have a list of dictionaries\n",
    "# this is the format needed for mongo\n",
    "print(type(bball_data))\n",
    "print(type(bball_data[0]))"
   ]
  },
  {
   "cell_type": "code",
   "execution_count": 13,
   "metadata": {},
   "outputs": [
    {
     "output_type": "stream",
     "name": "stdout",
     "text": [
      "current databases: ['admin', 'config', 'local', 'peopledb', 'usgs']\n<class 'pymongo.collection.Collection'>\n"
     ]
    }
   ],
   "source": [
    "# store the local mongo client\n",
    "# make sure server is running\n",
    "client = pymongo.MongoClient('localhost', 27017)\n",
    "\n",
    "# show your existing databases\n",
    "print('current databases:', client.list_database_names())\n",
    "\n",
    "# create a new database\n",
    "# or overwrite if it exists\n",
    "bballdb = client.bball\n",
    "\n",
    "# create a new collection\n",
    "# or overwrite if it exists\n",
    "bballcoll = bballdb.bballcoll\n",
    "print(type(bballcoll))"
   ]
  },
  {
   "cell_type": "code",
   "execution_count": 15,
   "metadata": {},
   "outputs": [],
   "source": [
    "# load data into the collection\n",
    "# if error then skip the record\n",
    "# some duplicate keys caused error\n",
    "for doc in bball_data:\n",
    "    try:\n",
    "        bballcoll.insert_one(doc)\n",
    "    except:\n",
    "        continue"
   ]
  },
  {
   "cell_type": "code",
   "execution_count": 16,
   "metadata": {},
   "outputs": [
    {
     "output_type": "execute_result",
     "data": {
      "text/plain": [
       "pymongo.cursor.Cursor"
      ]
     },
     "metadata": {},
     "execution_count": 16
    }
   ],
   "source": [
    "# retrieve all the docs from the coll\n",
    "bball_docs = bballcoll.find()\n",
    "type(bball_docs)"
   ]
  },
  {
   "cell_type": "code",
   "execution_count": 17,
   "metadata": {},
   "outputs": [
    {
     "output_type": "execute_result",
     "data": {
      "text/plain": [
       "2000"
      ]
     },
     "metadata": {},
     "execution_count": 17
    }
   ],
   "source": [
    "# put all the docs into a doc list\n",
    "doclist = [tweet for tweet in bball_docs]\n",
    "len(doclist)"
   ]
  },
  {
   "cell_type": "code",
   "execution_count": 8,
   "metadata": {},
   "outputs": [
    {
     "name": "stdout",
     "output_type": "stream",
     "text": [
      "\n",
      "Date: Mon Mar 27 22:30:30 +0000 2017\n",
      "From: Will\n",
      "Message RT @HowardWKYT: The final seconds of the Kentucky-North Carolina game was an emotional roller coaster for Big Blue fans. #marchmadness #WKY…\n",
      "\n",
      "Date: Mon Mar 27 22:30:22 +0000 2017\n",
      "From: Kahlen Donatell\n",
      "Message RT @WhistleSports: When you perfectly time the #UNC buzzer beater 😱🏀 #MarchMadness\n",
      "\n",
      "(via:@SamuelGrubbs1 ) https://t.co/Ol2ibpZjB4\n",
      "\n",
      "Date: Mon Mar 27 22:30:21 +0000 2017\n",
      "From: Jesús\n",
      "Message RT @HowardWKYT: The final seconds of the Kentucky-North Carolina game was an emotional roller coaster for Big Blue fans. #marchmadness #WKY…\n",
      "\n",
      "Date: Mon Mar 27 22:30:14 +0000 2017\n",
      "From: plug,\n",
      "Message RT @BleacherReport: And then there were four... #MarchMadness https://t.co/0MbxpgAuUC\n",
      "\n",
      "Date: Mon Mar 27 22:30:11 +0000 2017\n",
      "From: Joni Dickerson\n",
      "Message RT @mycarolinastdnt: RT if you'll be cheering on @GamecockWBB and @dawnstaley tonight. Let's Go Gamecocks! #MarchMadness\n"
     ]
    }
   ],
   "source": [
    "# create a function that prints tweets\n",
    "# prints out the specified information\n",
    "def print_tweet_data(tweets):\n",
    "  for tweet in tweets:\n",
    "    print('\\nDate:', tweet['created_at'])\n",
    "    print('From:', tweet['user']['name'])\n",
    "    print('Message', tweet['text'])\n",
    "\n",
    "# use the function on the first 5 docs\n",
    "print_tweet_data(doclist[:5])"
   ]
  },
  {
   "cell_type": "code",
   "execution_count": 18,
   "metadata": {},
   "outputs": [
    {
     "output_type": "execute_result",
     "data": {
      "text/plain": [
       "dict_keys(['_id', 'user', 'metadata', 'favorited', 'in_reply_to_user_id', 'text', 'retweet_count', 'id', 'in_reply_to_screen_name', 'created_at', 'is_quote_status', 'retweeted_status', 'favorite_count', 'contributors', 'lang', 'in_reply_to_status_id_str', 'source', 'in_reply_to_status_id', 'place', 'entities', 'geo', 'truncated', 'coordinates', 'in_reply_to_user_id_str', 'retweeted', 'id_str'])"
      ]
     },
     "metadata": {},
     "execution_count": 18
    }
   ],
   "source": [
    "doclist[0].keys()"
   ]
  },
  {
   "cell_type": "code",
   "execution_count": null,
   "metadata": {},
   "outputs": [],
   "source": []
  }
 ],
 "metadata": {
  "kernelspec": {
   "name": "python388jvsc74a57bd0f15837fdae91b30dab61da71d8b87089474f4d12bf60a1f1e36f7e67523581b7",
   "display_name": "Python 3.8.8 64-bit ('base': conda)"
  },
  "language_info": {
   "codemirror_mode": {
    "name": "ipython",
    "version": 3
   },
   "file_extension": ".py",
   "mimetype": "text/x-python",
   "name": "python",
   "nbconvert_exporter": "python",
   "pygments_lexer": "ipython3",
   "version": "3.8.8"
  }
 },
 "nbformat": 4,
 "nbformat_minor": 4
}