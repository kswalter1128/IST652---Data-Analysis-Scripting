{
 "metadata": {
  "language_info": {
   "codemirror_mode": {
    "name": "ipython",
    "version": 3
   },
   "file_extension": ".py",
   "mimetype": "text/x-python",
   "name": "python",
   "nbconvert_exporter": "python",
   "pygments_lexer": "ipython3",
   "version": "3.8.8"
  },
  "orig_nbformat": 2,
  "kernelspec": {
   "name": "python388jvsc74a57bd0f15837fdae91b30dab61da71d8b87089474f4d12bf60a1f1e36f7e67523581b7",
   "display_name": "Python 3.8.8 64-bit ('base': conda)"
  }
 },
 "nbformat": 4,
 "nbformat_minor": 2,
 "cells": [
  {
   "cell_type": "code",
   "execution_count": 1,
   "metadata": {},
   "outputs": [],
   "source": [
    "import pymongo"
   ]
  },
  {
   "cell_type": "code",
   "execution_count": 2,
   "metadata": {},
   "outputs": [],
   "source": [
    "client = pymongo.MongoClient('localhost',27017)"
   ]
  },
  {
   "cell_type": "code",
   "execution_count": 3,
   "metadata": {},
   "outputs": [
    {
     "output_type": "stream",
     "name": "stderr",
     "text": [
      "<ipython-input-3-8fc97a67991b>:2: DeprecationWarning: collection_names is deprecated. Use list_collection_names instead.\n  db.collection_names()\n"
     ]
    },
    {
     "output_type": "execute_result",
     "data": {
      "text/plain": [
       "['bballcoll']"
      ]
     },
     "metadata": {},
     "execution_count": 3
    }
   ],
   "source": [
    "db = client.bball\n",
    "db.collection_names()"
   ]
  },
  {
   "cell_type": "code",
   "execution_count": 4,
   "metadata": {},
   "outputs": [
    {
     "output_type": "execute_result",
     "data": {
      "text/plain": [
       "2000"
      ]
     },
     "metadata": {},
     "execution_count": 4
    }
   ],
   "source": [
    "coll = db.bballcoll\n",
    "docs = coll.find()\n",
    "doclist = [tweet for tweet in docs]\n",
    "len(doclist)"
   ]
  },
  {
   "cell_type": "code",
   "execution_count": 6,
   "metadata": {},
   "outputs": [
    {
     "output_type": "stream",
     "name": "stdout",
     "text": [
      "[{'_id': {'oid': '58d992de64a4f3e56d2dbb96'}, 'user': {'profile_background_tile': True, 'friends_count': 271, 'profile_sidebar_fill_color': 'FFF7CC', 'id_str': '274784555', 'is_translation_enabled': False, 'profile_link_color': 'FF0000', 'followers_count': 798, 'location': 'Atlanta', 'protected': False, 'default_profile_image': False, 'contributors_enabled': False, 'favourites_count': 2333, 'profile_background_color': 'BADFCD', 'statuses_count': 13626, 'id': 274784555, 'profile_banner_url': 'https://pbs.twimg.com/profile_banners/274784555/1488948367', 'created_at': 'Thu Mar 31 01:11:49 +0000 2011', 'profile_image_url_https': 'https://pbs.twimg.com/profile_images/839282930442625026/Rt4ZkYOR_normal.jpg', 'time_zone': 'Pacific Time (US & Canada)', 'follow_request_sent': None, 'listed_count': 3, 'utc_offset': -25200, 'lang': 'en', 'is_translator': False, 'name': 'Haley Salvador', 'description': 'Okay 🅱️ool 🤘🏼 | USC20', 'profile_use_background_image': True, 'verified': False, 'geo_enabled': False, 'profile_text_color': '0C3E53', 'profile_image_url': 'http://pbs.twimg.com/profile_images/839282930442625026/Rt4ZkYOR_normal.jpg', 'entities': {'description': {'urls': []}}, 'notifications': None, 'url': None, 'translator_type': 'none', 'has_extended_profile': False, 'default_profile': False, 'screen_name': 'ASAPhales', 'following': None, 'profile_background_image_url': 'http://abs.twimg.com/images/themes/theme12/bg.gif', 'profile_sidebar_border_color': 'FFFFFF', 'profile_background_image_url_https': 'https://abs.twimg.com/images/themes/theme12/bg.gif'}, 'metadata': {'iso_language_code': 'en', 'result_type': 'recent'}, 'favorited': False, 'in_reply_to_user_id': None, 'text': 'RT @FloridaGators: Congratulations to @GamecockMBB - go win the rest! #SEC #MarchMadness', 'retweet_count': 949, 'id': 846463866863276032, 'in_reply_to_screen_name': None, 'created_at': 'Mon Mar 27 20:48:07 +0000 2017', 'is_quote_status': False, 'retweeted_status': {'user': {'profile_background_tile': False, 'friends_count': 554, 'profile_sidebar_fill_color': 'E4E4E4', 'id_str': '30870308', 'is_translation_enabled': False, 'profile_link_color': '003399', 'followers_count': 259725, 'location': 'Gainesville, FL', 'protected': False, 'default_profile_image': False, 'contributors_enabled': False, 'favourites_count': 1524, 'profile_background_color': '003399', 'statuses_count': 69469, 'id': 30870308, 'profile_banner_url': 'https://pbs.twimg.com/profile_banners/30870308/1443406419', 'created_at': 'Mon Apr 13 14:07:28 +0000 2009', 'profile_image_url_https': 'https://pbs.twimg.com/profile_images/775138758639452160/jaEcKZgk_normal.jpg', 'time_zone': 'Eastern Time (US & Canada)', 'follow_request_sent': None, 'listed_count': 1755, 'utc_offset': -14400, 'lang': 'en', 'is_translator': False, 'name': 'Florida Gators', 'description': 'The official Twitter account of the Florida Gators. #GoGators', 'profile_use_background_image': True, 'verified': True, 'geo_enabled': True, 'profile_text_color': '222222', 'profile_image_url': 'http://pbs.twimg.com/profile_images/775138758639452160/jaEcKZgk_normal.jpg', 'entities': {'description': {'urls': []}, 'url': {'urls': [{'expanded_url': 'http://www.floridagators.com', 'display_url': 'floridagators.com', 'indices': [0, 23], 'url': 'https://t.co/8ZNcLvfijv'}]}}, 'notifications': None, 'url': 'https://t.co/8ZNcLvfijv', 'translator_type': 'none', 'has_extended_profile': False, 'default_profile': False, 'screen_name': 'FloridaGators', 'following': None, 'profile_background_image_url': 'http://pbs.twimg.com/profile_background_images/489143253183111168/Lxuguj6B.jpeg', 'profile_sidebar_border_color': 'FFFFFF', 'profile_background_image_url_https': 'https://pbs.twimg.com/profile_background_images/489143253183111168/Lxuguj6B.jpeg'}, 'metadata': {'iso_language_code': 'en', 'result_type': 'recent'}, 'favorited': False, 'in_reply_to_user_id': None, 'text': 'Congratulations to @GamecockMBB - go win the rest! #SEC #MarchMadness', 'retweet_count': 949, 'id': 846101296591638529, 'in_reply_to_screen_name': None, 'created_at': 'Sun Mar 26 20:47:23 +0000 2017', 'is_quote_status': False, 'favorite_count': 3458, 'contributors': None, 'lang': 'en', 'in_reply_to_status_id_str': None, 'source': '<a href=\"http://twitter.com/download/iphone\" rel=\"nofollow\">Twitter for iPhone</a>', 'in_reply_to_status_id': None, 'place': {'country': 'United States', 'contained_within': [], 'id': '07d9db0a2dc81000', 'country_code': 'US', 'bounding_box': {'type': 'Polygon', 'coordinates': [[[-73.9934992790222, 40.75051626137434], [-73.9934992790222, 40.75051626137434], [-73.9934992790222, 40.75051626137434], [-73.9934992790222, 40.75051626137434]]]}, 'place_type': 'poi', 'full_name': 'Madison Square Garden', 'url': 'https://api.twitter.com/1.1/geo/id/07d9db0a2dc81000.json', 'name': 'Madison Square Garden', 'attributes': {}}, 'entities': {'hashtags': [{'indices': [51, 55], 'text': 'SEC'}, {'indices': [56, 69], 'text': 'MarchMadness'}], 'urls': [], 'symbols': [], 'user_mentions': [{'indices': [19, 31], 'name': 'Gamecock MBB', 'id': 106767235, 'id_str': '106767235', 'screen_name': 'GamecockMBB'}]}, 'geo': None, 'truncated': False, 'coordinates': None, 'in_reply_to_user_id_str': None, 'retweeted': False, 'id_str': '846101296591638529'}, 'favorite_count': 0, 'contributors': None, 'lang': 'en', 'in_reply_to_status_id_str': None, 'source': '<a href=\"http://twitter.com/download/iphone\" rel=\"nofollow\">Twitter for iPhone</a>', 'in_reply_to_status_id': None, 'place': None, 'entities': {'hashtags': [{'indices': [70, 74], 'text': 'SEC'}, {'indices': [75, 88], 'text': 'MarchMadness'}], 'urls': [], 'symbols': [], 'user_mentions': [{'indices': [3, 17], 'name': 'Florida Gators', 'id': 30870308, 'id_str': '30870308', 'screen_name': 'FloridaGators'}, {'indices': [38, 50], 'name': 'Gamecock MBB', 'id': 106767235, 'id_str': '106767235', 'screen_name': 'GamecockMBB'}]}, 'geo': None, 'truncated': False, 'coordinates': None, 'in_reply_to_user_id_str': None, 'retweeted': False, 'id_str': '846463866863276032'}]\n"
     ]
    }
   ],
   "source": [
    "print(doclist[1999:])"
   ]
  },
  {
   "cell_type": "code",
   "execution_count": 7,
   "metadata": {},
   "outputs": [],
   "source": [
    "def print_tweet(tweets):\n",
    "    for tweet in tweets:\n",
    "        print('\\nDate: ',tweet['created_at'])\n",
    "        print('from: ', tweet['user']['name'])\n",
    "        print('Message: ', tweet['text'])"
   ]
  },
  {
   "cell_type": "code",
   "execution_count": 8,
   "metadata": {},
   "outputs": [
    {
     "output_type": "stream",
     "name": "stdout",
     "text": [
      "\nDate:  Mon Mar 27 20:48:15 +0000 2017\nfrom:  Josie Degler\nMessage:  wot in tar heel nation #marchmadness #UKvsUNC https://t.co/rG2vO79eja\n\nDate:  Mon Mar 27 20:48:12 +0000 2017\nfrom:  #LEADDOGG⛽️\nMessage:  RT @HowardWKYT: The final seconds of the Kentucky-North Carolina game was an emotional roller coaster for Big Blue fans. #marchmadness #WKY…\n\nDate:  Mon Mar 27 20:48:08 +0000 2017\nfrom:  CR\nMessage:  RT @NVNewsNetwork: Our 1st tweet is a poll! Please vote &amp; share! Who do you want to win the @cityofhenderson Mayoral Race? #marchmadness #N…\n\nDate:  Mon Mar 27 20:48:07 +0000 2017\nfrom:  Alan Sosa\nMessage:  RT @TheNBAMonster: El #marchmadness es así, tiene esta locura...\n\nNorth Carolina elimina a Kentucky así y va directo al Final Four 👏👏  http…\n\nDate:  Mon Mar 27 20:48:07 +0000 2017\nfrom:  Haley Salvador\nMessage:  RT @FloridaGators: Congratulations to @GamecockMBB - go win the rest! #SEC #MarchMadness\n"
     ]
    }
   ],
   "source": [
    "print_tweet(doclist[1995:])"
   ]
  },
  {
   "cell_type": "code",
   "execution_count": null,
   "metadata": {},
   "outputs": [],
   "source": []
  }
 ]
}